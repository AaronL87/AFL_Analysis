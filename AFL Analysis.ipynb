{
 "cells": [
  {
   "cell_type": "markdown",
   "metadata": {},
   "source": [
    "# AFL Time Series Data Analysis with Result and AFL Fantasy Predictions"
   ]
  },
  {
   "cell_type": "code",
   "execution_count": 1,
   "metadata": {},
   "outputs": [],
   "source": [
    "import pandas as pd\n",
    "import numpy as np\n",
    "import matplotlib.pyplot as plt\n",
    "\n",
    "from scipy.stats import ttest_ind, zscore\n",
    "\n",
    "%matplotlib inline\n",
    "\n",
    "#Supresses scientific notation\n",
    "pd.set_option('display.float_format', lambda x: '%.2f' % x)\n",
    "\n",
    "import warnings\n",
    "warnings.filterwarnings('ignore')"
   ]
  },
  {
   "cell_type": "code",
   "execution_count": 2,
   "metadata": {},
   "outputs": [
    {
     "data": {
      "text/html": [
       "<div>\n",
       "<style scoped>\n",
       "    .dataframe tbody tr th:only-of-type {\n",
       "        vertical-align: middle;\n",
       "    }\n",
       "\n",
       "    .dataframe tbody tr th {\n",
       "        vertical-align: top;\n",
       "    }\n",
       "\n",
       "    .dataframe thead th {\n",
       "        text-align: right;\n",
       "    }\n",
       "</style>\n",
       "<table border=\"1\" class=\"dataframe\">\n",
       "  <thead>\n",
       "    <tr style=\"text-align: right;\">\n",
       "      <th></th>\n",
       "      <th>Team</th>\n",
       "      <th>Player</th>\n",
       "      <th>D.O.B</th>\n",
       "      <th>Height</th>\n",
       "      <th>Weight</th>\n",
       "      <th>Position</th>\n",
       "      <th>Season</th>\n",
       "      <th>Round</th>\n",
       "      <th>Date</th>\n",
       "      <th>Score</th>\n",
       "      <th>...</th>\n",
       "      <th>FreesAgainst</th>\n",
       "      <th>BrownlowVotes</th>\n",
       "      <th>ContendedPossessions</th>\n",
       "      <th>UncontendedPossessions</th>\n",
       "      <th>ContestedMarks</th>\n",
       "      <th>MarksInside50</th>\n",
       "      <th>OnePercenters</th>\n",
       "      <th>Bounces</th>\n",
       "      <th>GoalAssists</th>\n",
       "      <th>PercentPlayed</th>\n",
       "    </tr>\n",
       "  </thead>\n",
       "  <tbody>\n",
       "    <tr>\n",
       "      <th>0</th>\n",
       "      <td>Adelaide</td>\n",
       "      <td>Atkins, Rory</td>\n",
       "      <td>1994-07-12</td>\n",
       "      <td>186</td>\n",
       "      <td>85</td>\n",
       "      <td>Midfield</td>\n",
       "      <td>2018</td>\n",
       "      <td>R1</td>\n",
       "      <td>2018-03-23</td>\n",
       "      <td>87.00</td>\n",
       "      <td>...</td>\n",
       "      <td>0</td>\n",
       "      <td>0</td>\n",
       "      <td>4</td>\n",
       "      <td>9</td>\n",
       "      <td>0</td>\n",
       "      <td>0</td>\n",
       "      <td>0</td>\n",
       "      <td>0</td>\n",
       "      <td>1</td>\n",
       "      <td>86</td>\n",
       "    </tr>\n",
       "    <tr>\n",
       "      <th>1</th>\n",
       "      <td>Adelaide</td>\n",
       "      <td>Betts, Eddie</td>\n",
       "      <td>1986-11-26</td>\n",
       "      <td>174</td>\n",
       "      <td>74</td>\n",
       "      <td>Forward</td>\n",
       "      <td>2018</td>\n",
       "      <td>R1</td>\n",
       "      <td>2018-03-23</td>\n",
       "      <td>87.00</td>\n",
       "      <td>...</td>\n",
       "      <td>0</td>\n",
       "      <td>0</td>\n",
       "      <td>6</td>\n",
       "      <td>9</td>\n",
       "      <td>0</td>\n",
       "      <td>1</td>\n",
       "      <td>3</td>\n",
       "      <td>0</td>\n",
       "      <td>1</td>\n",
       "      <td>85</td>\n",
       "    </tr>\n",
       "    <tr>\n",
       "      <th>2</th>\n",
       "      <td>Adelaide</td>\n",
       "      <td>Brown, Luke</td>\n",
       "      <td>1992-09-22</td>\n",
       "      <td>181</td>\n",
       "      <td>81</td>\n",
       "      <td>Defender</td>\n",
       "      <td>2018</td>\n",
       "      <td>R1</td>\n",
       "      <td>2018-03-23</td>\n",
       "      <td>87.00</td>\n",
       "      <td>...</td>\n",
       "      <td>0</td>\n",
       "      <td>0</td>\n",
       "      <td>1</td>\n",
       "      <td>10</td>\n",
       "      <td>0</td>\n",
       "      <td>0</td>\n",
       "      <td>2</td>\n",
       "      <td>0</td>\n",
       "      <td>0</td>\n",
       "      <td>82</td>\n",
       "    </tr>\n",
       "    <tr>\n",
       "      <th>3</th>\n",
       "      <td>Adelaide</td>\n",
       "      <td>Crouch, Matt</td>\n",
       "      <td>1995-04-21</td>\n",
       "      <td>182</td>\n",
       "      <td>80</td>\n",
       "      <td>Midfield</td>\n",
       "      <td>2018</td>\n",
       "      <td>R1</td>\n",
       "      <td>2018-03-23</td>\n",
       "      <td>87.00</td>\n",
       "      <td>...</td>\n",
       "      <td>1</td>\n",
       "      <td>0</td>\n",
       "      <td>11</td>\n",
       "      <td>31</td>\n",
       "      <td>0</td>\n",
       "      <td>0</td>\n",
       "      <td>0</td>\n",
       "      <td>0</td>\n",
       "      <td>1</td>\n",
       "      <td>80</td>\n",
       "    </tr>\n",
       "    <tr>\n",
       "      <th>4</th>\n",
       "      <td>Adelaide</td>\n",
       "      <td>Doedee, Tom</td>\n",
       "      <td>1997-03-01</td>\n",
       "      <td>188</td>\n",
       "      <td>88</td>\n",
       "      <td>Defender</td>\n",
       "      <td>2018</td>\n",
       "      <td>R1</td>\n",
       "      <td>2018-03-23</td>\n",
       "      <td>87.00</td>\n",
       "      <td>...</td>\n",
       "      <td>0</td>\n",
       "      <td>0</td>\n",
       "      <td>8</td>\n",
       "      <td>14</td>\n",
       "      <td>0</td>\n",
       "      <td>0</td>\n",
       "      <td>9</td>\n",
       "      <td>1</td>\n",
       "      <td>0</td>\n",
       "      <td>93</td>\n",
       "    </tr>\n",
       "  </tbody>\n",
       "</table>\n",
       "<p>5 rows × 37 columns</p>\n",
       "</div>"
      ],
      "text/plain": [
       "       Team        Player       D.O.B  Height  Weight  Position  Season Round  \\\n",
       "0  Adelaide  Atkins, Rory  1994-07-12     186      85  Midfield    2018    R1   \n",
       "1  Adelaide  Betts, Eddie  1986-11-26     174      74   Forward    2018    R1   \n",
       "2  Adelaide   Brown, Luke  1992-09-22     181      81  Defender    2018    R1   \n",
       "3  Adelaide  Crouch, Matt  1995-04-21     182      80  Midfield    2018    R1   \n",
       "4  Adelaide   Doedee, Tom  1997-03-01     188      88  Defender    2018    R1   \n",
       "\n",
       "         Date  Score  ...  FreesAgainst BrownlowVotes ContendedPossessions  \\\n",
       "0  2018-03-23  87.00  ...             0             0                    4   \n",
       "1  2018-03-23  87.00  ...             0             0                    6   \n",
       "2  2018-03-23  87.00  ...             0             0                    1   \n",
       "3  2018-03-23  87.00  ...             1             0                   11   \n",
       "4  2018-03-23  87.00  ...             0             0                    8   \n",
       "\n",
       "  UncontendedPossessions  ContestedMarks  MarksInside50  OnePercenters  \\\n",
       "0                      9               0              0              0   \n",
       "1                      9               0              1              3   \n",
       "2                     10               0              0              2   \n",
       "3                     31               0              0              0   \n",
       "4                     14               0              0              9   \n",
       "\n",
       "   Bounces  GoalAssists  PercentPlayed  \n",
       "0        0            1             86  \n",
       "1        0            1             85  \n",
       "2        0            0             82  \n",
       "3        0            1             80  \n",
       "4        1            0             93  \n",
       "\n",
       "[5 rows x 37 columns]"
      ]
     },
     "execution_count": 2,
     "metadata": {},
     "output_type": "execute_result"
    }
   ],
   "source": [
    "df = pd.read_csv(\"stats.csv\")\n",
    "\n",
    "df.head()"
   ]
  },
  {
   "cell_type": "code",
   "execution_count": 3,
   "metadata": {
    "scrolled": false
   },
   "outputs": [
    {
     "data": {
      "text/plain": [
       "Team                       object\n",
       "Player                     object\n",
       "D.O.B                      object\n",
       "Height                      int64\n",
       "Weight                      int64\n",
       "Position                   object\n",
       "Season                      int64\n",
       "Round                      object\n",
       "Date                       object\n",
       "Score                     float64\n",
       "Margin                    float64\n",
       "WinLoss                    object\n",
       "Opposition                 object\n",
       "Venue                      object\n",
       "Disposals                   int64\n",
       "Kicks                       int64\n",
       "Marks                       int64\n",
       "Handballs                   int64\n",
       "Goals                       int64\n",
       "Behinds                     int64\n",
       "Hitouts                     int64\n",
       "Tackles                     int64\n",
       "Rebound50s                  int64\n",
       "Inside50s                   int64\n",
       "Clearances                  int64\n",
       "Clangers                    int64\n",
       "FreesFor                    int64\n",
       "FreesAgainst                int64\n",
       "BrownlowVotes               int64\n",
       "ContendedPossessions        int64\n",
       "UncontendedPossessions      int64\n",
       "ContestedMarks              int64\n",
       "MarksInside50               int64\n",
       "OnePercenters               int64\n",
       "Bounces                     int64\n",
       "GoalAssists                 int64\n",
       "PercentPlayed               int64\n",
       "dtype: object"
      ]
     },
     "execution_count": 3,
     "metadata": {},
     "output_type": "execute_result"
    }
   ],
   "source": [
    "df.dtypes"
   ]
  },
  {
   "cell_type": "markdown",
   "metadata": {},
   "source": [
    "### Creating \"Age\" column:"
   ]
  },
  {
   "cell_type": "code",
   "execution_count": 4,
   "metadata": {},
   "outputs": [],
   "source": [
    "#Converting date objects to datetime:\n",
    "df['D.O.B'] = pd.to_datetime(df['D.O.B'], format='%Y'+'-'+'%m'+'-'+'%d')\n",
    "df['Date'] = pd.to_datetime(df['Date'], format='%Y'+'-'+'%m'+'-'+'%d')\n",
    "\n",
    "#Creating Age column:\n",
    "df.insert(2,'Age',(df['Date']-df['D.O.B'])/np.timedelta64(1,'Y'))\n",
    "\n",
    "df.drop('D.O.B',axis=1,inplace=True)\n",
    "\n",
    "#Changing WinLoss to numerical values\n",
    "df.WinLoss.replace(['W', 'L', 'D'],[1,0,.5],inplace=True)"
   ]
  },
  {
   "cell_type": "markdown",
   "metadata": {},
   "source": [
    "### Fixing Null Values:"
   ]
  },
  {
   "cell_type": "code",
   "execution_count": 5,
   "metadata": {},
   "outputs": [],
   "source": [
    "#Removing post season \"Rounds\" (they also have null values)\n",
    "round_list = ['QF', 'SF', 'PF', 'GF', 'EF']\n",
    "df = df[~df.Round.isin(round_list)]"
   ]
  },
  {
   "cell_type": "markdown",
   "metadata": {},
   "source": [
    "### Creating a alphabetically sorted \"Team, Opposition\" column to be able to group by game:"
   ]
  },
  {
   "cell_type": "code",
   "execution_count": 6,
   "metadata": {},
   "outputs": [],
   "source": [
    "df['Teams'] = df[['Team','Opposition']].values.tolist()"
   ]
  },
  {
   "cell_type": "code",
   "execution_count": 7,
   "metadata": {},
   "outputs": [],
   "source": [
    "df.Teams = df.Teams.apply(sorted).apply(', '.join)"
   ]
  },
  {
   "cell_type": "markdown",
   "metadata": {},
   "source": [
    "### Creating Points Per Percent Played column:"
   ]
  },
  {
   "cell_type": "code",
   "execution_count": 8,
   "metadata": {},
   "outputs": [],
   "source": [
    "#Creating \"points per percent of game played\" columns\n",
    "df.insert(10, 'PointsPerPercentPlayed',(df['Goals']+df['Behinds'])/df['PercentPlayed'])"
   ]
  },
  {
   "cell_type": "markdown",
   "metadata": {},
   "source": [
    "## Feature info:"
   ]
  },
  {
   "cell_type": "code",
   "execution_count": 9,
   "metadata": {},
   "outputs": [
    {
     "data": {
      "text/html": [
       "<div>\n",
       "<style scoped>\n",
       "    .dataframe tbody tr th:only-of-type {\n",
       "        vertical-align: middle;\n",
       "    }\n",
       "\n",
       "    .dataframe tbody tr th {\n",
       "        vertical-align: top;\n",
       "    }\n",
       "\n",
       "    .dataframe thead th {\n",
       "        text-align: right;\n",
       "    }\n",
       "</style>\n",
       "<table border=\"1\" class=\"dataframe\">\n",
       "  <thead>\n",
       "    <tr style=\"text-align: right;\">\n",
       "      <th></th>\n",
       "      <th>Age</th>\n",
       "      <th>Height</th>\n",
       "      <th>Weight</th>\n",
       "      <th>Season</th>\n",
       "      <th>Score</th>\n",
       "      <th>PointsPerPercentPlayed</th>\n",
       "      <th>Margin</th>\n",
       "      <th>WinLoss</th>\n",
       "      <th>Disposals</th>\n",
       "      <th>Kicks</th>\n",
       "      <th>...</th>\n",
       "      <th>FreesAgainst</th>\n",
       "      <th>BrownlowVotes</th>\n",
       "      <th>ContendedPossessions</th>\n",
       "      <th>UncontendedPossessions</th>\n",
       "      <th>ContestedMarks</th>\n",
       "      <th>MarksInside50</th>\n",
       "      <th>OnePercenters</th>\n",
       "      <th>Bounces</th>\n",
       "      <th>GoalAssists</th>\n",
       "      <th>PercentPlayed</th>\n",
       "    </tr>\n",
       "  </thead>\n",
       "  <tbody>\n",
       "    <tr>\n",
       "      <th>count</th>\n",
       "      <td>60940.00</td>\n",
       "      <td>60940.00</td>\n",
       "      <td>60940.00</td>\n",
       "      <td>60940.00</td>\n",
       "      <td>60940.00</td>\n",
       "      <td>60940.00</td>\n",
       "      <td>60940.00</td>\n",
       "      <td>60940.00</td>\n",
       "      <td>60940.00</td>\n",
       "      <td>60940.00</td>\n",
       "      <td>...</td>\n",
       "      <td>60940.00</td>\n",
       "      <td>60940.00</td>\n",
       "      <td>60940.00</td>\n",
       "      <td>60940.00</td>\n",
       "      <td>60940.00</td>\n",
       "      <td>60940.00</td>\n",
       "      <td>60940.00</td>\n",
       "      <td>60940.00</td>\n",
       "      <td>60940.00</td>\n",
       "      <td>60940.00</td>\n",
       "    </tr>\n",
       "    <tr>\n",
       "      <th>mean</th>\n",
       "      <td>24.96</td>\n",
       "      <td>187.76</td>\n",
       "      <td>88.07</td>\n",
       "      <td>2015.00</td>\n",
       "      <td>88.53</td>\n",
       "      <td>0.01</td>\n",
       "      <td>0.00</td>\n",
       "      <td>0.50</td>\n",
       "      <td>16.73</td>\n",
       "      <td>9.43</td>\n",
       "      <td>...</td>\n",
       "      <td>0.84</td>\n",
       "      <td>0.14</td>\n",
       "      <td>6.40</td>\n",
       "      <td>10.28</td>\n",
       "      <td>0.49</td>\n",
       "      <td>0.53</td>\n",
       "      <td>2.15</td>\n",
       "      <td>0.38</td>\n",
       "      <td>0.40</td>\n",
       "      <td>81.81</td>\n",
       "    </tr>\n",
       "    <tr>\n",
       "      <th>std</th>\n",
       "      <td>3.68</td>\n",
       "      <td>7.20</td>\n",
       "      <td>8.08</td>\n",
       "      <td>2.00</td>\n",
       "      <td>27.81</td>\n",
       "      <td>0.02</td>\n",
       "      <td>46.17</td>\n",
       "      <td>0.50</td>\n",
       "      <td>7.21</td>\n",
       "      <td>4.56</td>\n",
       "      <td>...</td>\n",
       "      <td>0.98</td>\n",
       "      <td>0.55</td>\n",
       "      <td>3.71</td>\n",
       "      <td>5.31</td>\n",
       "      <td>0.85</td>\n",
       "      <td>0.99</td>\n",
       "      <td>2.33</td>\n",
       "      <td>0.93</td>\n",
       "      <td>0.68</td>\n",
       "      <td>13.32</td>\n",
       "    </tr>\n",
       "    <tr>\n",
       "      <th>min</th>\n",
       "      <td>18.27</td>\n",
       "      <td>167.00</td>\n",
       "      <td>67.00</td>\n",
       "      <td>2012.00</td>\n",
       "      <td>17.00</td>\n",
       "      <td>0.00</td>\n",
       "      <td>-162.00</td>\n",
       "      <td>0.00</td>\n",
       "      <td>0.00</td>\n",
       "      <td>0.00</td>\n",
       "      <td>...</td>\n",
       "      <td>0.00</td>\n",
       "      <td>0.00</td>\n",
       "      <td>0.00</td>\n",
       "      <td>0.00</td>\n",
       "      <td>0.00</td>\n",
       "      <td>0.00</td>\n",
       "      <td>0.00</td>\n",
       "      <td>0.00</td>\n",
       "      <td>0.00</td>\n",
       "      <td>1.00</td>\n",
       "    </tr>\n",
       "    <tr>\n",
       "      <th>25%</th>\n",
       "      <td>22.07</td>\n",
       "      <td>183.00</td>\n",
       "      <td>82.00</td>\n",
       "      <td>2013.00</td>\n",
       "      <td>69.00</td>\n",
       "      <td>0.00</td>\n",
       "      <td>-30.00</td>\n",
       "      <td>0.00</td>\n",
       "      <td>11.00</td>\n",
       "      <td>6.00</td>\n",
       "      <td>...</td>\n",
       "      <td>0.00</td>\n",
       "      <td>0.00</td>\n",
       "      <td>4.00</td>\n",
       "      <td>6.00</td>\n",
       "      <td>0.00</td>\n",
       "      <td>0.00</td>\n",
       "      <td>1.00</td>\n",
       "      <td>0.00</td>\n",
       "      <td>0.00</td>\n",
       "      <td>79.00</td>\n",
       "    </tr>\n",
       "    <tr>\n",
       "      <th>50%</th>\n",
       "      <td>24.61</td>\n",
       "      <td>187.00</td>\n",
       "      <td>86.00</td>\n",
       "      <td>2015.00</td>\n",
       "      <td>86.00</td>\n",
       "      <td>0.00</td>\n",
       "      <td>0.00</td>\n",
       "      <td>0.50</td>\n",
       "      <td>16.00</td>\n",
       "      <td>9.00</td>\n",
       "      <td>...</td>\n",
       "      <td>1.00</td>\n",
       "      <td>0.00</td>\n",
       "      <td>6.00</td>\n",
       "      <td>10.00</td>\n",
       "      <td>0.00</td>\n",
       "      <td>0.00</td>\n",
       "      <td>1.00</td>\n",
       "      <td>0.00</td>\n",
       "      <td>0.00</td>\n",
       "      <td>84.00</td>\n",
       "    </tr>\n",
       "    <tr>\n",
       "      <th>75%</th>\n",
       "      <td>27.49</td>\n",
       "      <td>193.00</td>\n",
       "      <td>93.00</td>\n",
       "      <td>2017.00</td>\n",
       "      <td>106.00</td>\n",
       "      <td>0.02</td>\n",
       "      <td>30.00</td>\n",
       "      <td>1.00</td>\n",
       "      <td>21.00</td>\n",
       "      <td>12.00</td>\n",
       "      <td>...</td>\n",
       "      <td>1.00</td>\n",
       "      <td>0.00</td>\n",
       "      <td>8.00</td>\n",
       "      <td>14.00</td>\n",
       "      <td>1.00</td>\n",
       "      <td>1.00</td>\n",
       "      <td>3.00</td>\n",
       "      <td>0.00</td>\n",
       "      <td>1.00</td>\n",
       "      <td>89.00</td>\n",
       "    </tr>\n",
       "    <tr>\n",
       "      <th>max</th>\n",
       "      <td>41.26</td>\n",
       "      <td>211.00</td>\n",
       "      <td>118.00</td>\n",
       "      <td>2018.00</td>\n",
       "      <td>193.00</td>\n",
       "      <td>0.25</td>\n",
       "      <td>162.00</td>\n",
       "      <td>1.00</td>\n",
       "      <td>54.00</td>\n",
       "      <td>36.00</td>\n",
       "      <td>...</td>\n",
       "      <td>8.00</td>\n",
       "      <td>3.00</td>\n",
       "      <td>32.00</td>\n",
       "      <td>40.00</td>\n",
       "      <td>8.00</td>\n",
       "      <td>13.00</td>\n",
       "      <td>25.00</td>\n",
       "      <td>15.00</td>\n",
       "      <td>6.00</td>\n",
       "      <td>100.00</td>\n",
       "    </tr>\n",
       "  </tbody>\n",
       "</table>\n",
       "<p>8 rows × 31 columns</p>\n",
       "</div>"
      ],
      "text/plain": [
       "           Age   Height   Weight   Season    Score  PointsPerPercentPlayed  \\\n",
       "count 60940.00 60940.00 60940.00 60940.00 60940.00                60940.00   \n",
       "mean     24.96   187.76    88.07  2015.00    88.53                    0.01   \n",
       "std       3.68     7.20     8.08     2.00    27.81                    0.02   \n",
       "min      18.27   167.00    67.00  2012.00    17.00                    0.00   \n",
       "25%      22.07   183.00    82.00  2013.00    69.00                    0.00   \n",
       "50%      24.61   187.00    86.00  2015.00    86.00                    0.00   \n",
       "75%      27.49   193.00    93.00  2017.00   106.00                    0.02   \n",
       "max      41.26   211.00   118.00  2018.00   193.00                    0.25   \n",
       "\n",
       "        Margin  WinLoss  Disposals    Kicks  ...  FreesAgainst  BrownlowVotes  \\\n",
       "count 60940.00 60940.00   60940.00 60940.00  ...      60940.00       60940.00   \n",
       "mean      0.00     0.50      16.73     9.43  ...          0.84           0.14   \n",
       "std      46.17     0.50       7.21     4.56  ...          0.98           0.55   \n",
       "min    -162.00     0.00       0.00     0.00  ...          0.00           0.00   \n",
       "25%     -30.00     0.00      11.00     6.00  ...          0.00           0.00   \n",
       "50%       0.00     0.50      16.00     9.00  ...          1.00           0.00   \n",
       "75%      30.00     1.00      21.00    12.00  ...          1.00           0.00   \n",
       "max     162.00     1.00      54.00    36.00  ...          8.00           3.00   \n",
       "\n",
       "       ContendedPossessions  UncontendedPossessions  ContestedMarks  \\\n",
       "count              60940.00                60940.00        60940.00   \n",
       "mean                   6.40                   10.28            0.49   \n",
       "std                    3.71                    5.31            0.85   \n",
       "min                    0.00                    0.00            0.00   \n",
       "25%                    4.00                    6.00            0.00   \n",
       "50%                    6.00                   10.00            0.00   \n",
       "75%                    8.00                   14.00            1.00   \n",
       "max                   32.00                   40.00            8.00   \n",
       "\n",
       "       MarksInside50  OnePercenters  Bounces  GoalAssists  PercentPlayed  \n",
       "count       60940.00       60940.00 60940.00     60940.00       60940.00  \n",
       "mean            0.53           2.15     0.38         0.40          81.81  \n",
       "std             0.99           2.33     0.93         0.68          13.32  \n",
       "min             0.00           0.00     0.00         0.00           1.00  \n",
       "25%             0.00           1.00     0.00         0.00          79.00  \n",
       "50%             0.00           1.00     0.00         0.00          84.00  \n",
       "75%             1.00           3.00     0.00         1.00          89.00  \n",
       "max            13.00          25.00    15.00         6.00         100.00  \n",
       "\n",
       "[8 rows x 31 columns]"
      ]
     },
     "execution_count": 9,
     "metadata": {},
     "output_type": "execute_result"
    }
   ],
   "source": [
    "df.describe()"
   ]
  },
  {
   "cell_type": "code",
   "execution_count": 10,
   "metadata": {},
   "outputs": [],
   "source": [
    "number_list = df.select_dtypes(include=['number']).columns"
   ]
  },
  {
   "cell_type": "code",
   "execution_count": 11,
   "metadata": {
    "scrolled": false
   },
   "outputs": [
    {
     "data": {
      "image/png": "[encoded data removed]",
      "text/plain": [
       "<Figure size 2160x2160 with 30 Axes>"
      ]
     },
     "metadata": {
      "needs_background": "light"
     },
     "output_type": "display_data"
    }
   ],
   "source": [
    "fig,ax = plt.subplots(6, 5)\n",
    "\n",
    "m=0\n",
    "for i in range(6):\n",
    "    for j in range(5):\n",
    "\n",
    "        df[number_list[m]].plot(kind='hist',bins=20,ax=ax[i,j],figsize=(30, 30),\n",
    "                                edgecolor='k').set_title(number_list[m])\n",
    "        m+=1"
   ]
  },
  {
   "cell_type": "code",
   "execution_count": 12,
   "metadata": {
    "scrolled": false
   },
   "outputs": [],
   "source": [
    "df = df.set_index(['Season','Round']).sort_index()"
   ]
  },
  {
   "cell_type": "markdown",
   "metadata": {},
   "source": [
    "## Normalizing all players by round (n1):"
   ]
  },
  {
   "cell_type": "code",
   "execution_count": 13,
   "metadata": {},
   "outputs": [],
   "source": [
    "df_ML = df.copy()"
   ]
  },
  {
   "cell_type": "code",
   "execution_count": 14,
   "metadata": {},
   "outputs": [],
   "source": [
    "scaling_list = ['PointsPerPercentPlayed','Disposals', 'Kicks', 'Marks','Handballs',\n",
    "                'Goals', 'Behinds','Hitouts', 'Tackles', 'Rebound50s','Inside50s',\n",
    "                'Clearances','Clangers', 'FreesFor', 'FreesAgainst','BrownlowVotes',\n",
    "                'ContendedPossessions', 'UncontendedPossessions','ContestedMarks',\n",
    "                'MarksInside50', 'OnePercenters', 'Bounces', 'GoalAssists']\n",
    "\n",
    "normalize_list = ['Age', 'Height', 'Weight', 'Score', 'Margin']\n",
    "\n",
    "#Copying lists for AFL Fantasy analysis below:\n",
    "new_scaling_list = scaling_list.copy()\n",
    "new_normalize_list = normalize_list.copy()\n",
    "\n",
    "\n",
    "lose = ['Age', 'Height', 'Weight'] #For rows that I don't want to shift"
   ]
  },
  {
   "cell_type": "code",
   "execution_count": 15,
   "metadata": {
    "scrolled": false
   },
   "outputs": [],
   "source": [
    "templist=[]\n",
    "for col in scaling_list:\n",
    "    df_ML[col+'_n1'] = df_ML.groupby(['Season','Round'])[col].transform(lambda x:(x.astype(float) - min(x))/(max(x)-min(x)))    \n",
    "    templist.append(col+'_n1')\n",
    "\n",
    "scaling_list += templist"
   ]
  },
  {
   "cell_type": "code",
   "execution_count": 16,
   "metadata": {},
   "outputs": [],
   "source": [
    "templist=[]\n",
    "for col in normalize_list:\n",
    "    df_ML[col+'_n1'] = df_ML.groupby(['Season','Round'])[col].transform(lambda x: zscore(x,ddof=1))\n",
    "    templist.append(col+'_n1')\n",
    "    \n",
    "    if col.startswith('Age')|col.startswith('Height')|col.startswith('Weight'):\n",
    "        lose.append(col+'_n1')\n",
    "\n",
    "normalize_list += templist"
   ]
  },
  {
   "cell_type": "markdown",
   "metadata": {},
   "source": [
    "## Normalizing further by game (n2):"
   ]
  },
  {
   "cell_type": "code",
   "execution_count": 17,
   "metadata": {},
   "outputs": [],
   "source": [
    "df_ML = df_ML.set_index(['Teams'],append=1).sort_index()"
   ]
  },
  {
   "cell_type": "code",
   "execution_count": 18,
   "metadata": {},
   "outputs": [],
   "source": [
    "templist=[]\n",
    "for col in scaling_list:\n",
    "    df_ML[col+'_n2'] = df_ML.groupby(['Season','Round','Teams'])[col].transform(lambda x:(x.astype(float) - min(x))/(max(x)-min(x)))\n",
    "    templist.append(col+'_n2')\n",
    "\n",
    "scaling_list += templist"
   ]
  },
  {
   "cell_type": "code",
   "execution_count": 19,
   "metadata": {},
   "outputs": [],
   "source": [
    "templist=[]\n",
    "for col in normalize_list:\n",
    "    df_ML[col+'_n2'] = df_ML.groupby(['Season','Round','Teams'])[col].transform(lambda x: zscore(x,ddof=1))\n",
    "    templist.append(col+'_n2')\n",
    "    \n",
    "    if col.startswith('Age')|col.startswith('Height')|col.startswith('Weight'):\n",
    "        lose.append(col+'_n2')\n",
    "\n",
    "normalize_list += templist"
   ]
  },
  {
   "cell_type": "code",
   "execution_count": 20,
   "metadata": {
    "scrolled": false
   },
   "outputs": [],
   "source": [
    "df_ML.fillna(0,inplace=True)"
   ]
  },
  {
   "cell_type": "markdown",
   "metadata": {},
   "source": [
    "# Comparing points made per percent of game to various characteristics relative to players in each game:"
   ]
  },
  {
   "cell_type": "code",
   "execution_count": 21,
   "metadata": {},
   "outputs": [],
   "source": [
    "df_ML.reset_index(inplace=True)\n",
    "df_ML.drop(['Season','Round'],axis=1,inplace=True)\n",
    "\n",
    "df_ML.set_index(['Date','Teams','Team'],inplace=True)\n",
    "df_ML.sort_index(inplace=True)"
   ]
  },
  {
   "cell_type": "markdown",
   "metadata": {},
   "source": [
    "## Scaling the data by the percent played:"
   ]
  },
  {
   "cell_type": "code",
   "execution_count": 22,
   "metadata": {
    "scrolled": true
   },
   "outputs": [],
   "source": [
    "templist=[]\n",
    "for col in scaling_list:\n",
    "    df_ML[col+'scale'] = df_ML[col].multiply(df_ML.PercentPlayed/100,axis=0)\n",
    "    templist.append(col+'scale')\n",
    "    \n",
    "scaling_list += templist"
   ]
  },
  {
   "cell_type": "code",
   "execution_count": 23,
   "metadata": {
    "scrolled": true
   },
   "outputs": [],
   "source": [
    "number_list = scaling_list+normalize_list"
   ]
  },
  {
   "cell_type": "code",
   "execution_count": 24,
   "metadata": {},
   "outputs": [],
   "source": [
    "df_ML[number_list] = df_ML[number_list].groupby(['Date','Teams','Team']).mean()"
   ]
  },
  {
   "cell_type": "markdown",
   "metadata": {},
   "source": [
    "## Offsetting columns for time series analysis:"
   ]
  },
  {
   "cell_type": "code",
   "execution_count": 25,
   "metadata": {},
   "outputs": [],
   "source": [
    "df_ML.reset_index(inplace=True)\n",
    "df_ML.drop(['Player','Position','PercentPlayed','Teams'],axis=1,inplace=True)\n",
    "df_ML.drop_duplicates(inplace=True)"
   ]
  },
  {
   "cell_type": "code",
   "execution_count": 26,
   "metadata": {
    "scrolled": false
   },
   "outputs": [
    {
     "data": {
      "text/plain": [
       "['Age',\n",
       " 'Height',\n",
       " 'Weight',\n",
       " 'Age_n1',\n",
       " 'Height_n1',\n",
       " 'Weight_n1',\n",
       " 'Age_n2',\n",
       " 'Height_n2',\n",
       " 'Weight_n2',\n",
       " 'Age_n1_n2',\n",
       " 'Height_n1_n2',\n",
       " 'Weight_n1_n2']"
      ]
     },
     "execution_count": 26,
     "metadata": {},
     "output_type": "execute_result"
    }
   ],
   "source": [
    "lose #Columns whose rows that I don't want to shift"
   ]
  },
  {
   "cell_type": "code",
   "execution_count": 27,
   "metadata": {},
   "outputs": [],
   "source": [
    "Offset_List = number_list + ['WinLoss']\n",
    "\n",
    "for x in lose:\n",
    "    Offset_List.remove(x)"
   ]
  },
  {
   "cell_type": "code",
   "execution_count": 28,
   "metadata": {},
   "outputs": [],
   "source": [
    "PointsList=[]\n",
    "\n",
    "for column_name in Offset_List:\n",
    "    for i in range(1):\n",
    "        df_ML[column_name+'exp'+str(i+5)] = df_ML.set_index('Date',append=1).sort_index(level=1)\\\n",
    "            .groupby('Team')[column_name].rolling(window=i+5,min_periods=i+5,win_types='exponential')\\\n",
    "            .mean().groupby('Team').shift().reset_index(['Team','Date'], drop=1)\n",
    "\n",
    "        PointsList.append(column_name+'exp'+str(i+5))"
   ]
  },
  {
   "cell_type": "code",
   "execution_count": 29,
   "metadata": {},
   "outputs": [],
   "source": [
    "Offset_List.remove('WinLoss')\n",
    "\n",
    "df_ML.drop(Offset_List,axis=1,inplace=True)"
   ]
  },
  {
   "cell_type": "code",
   "execution_count": 30,
   "metadata": {
    "scrolled": false
   },
   "outputs": [],
   "source": [
    "#Fixing nulls again because of shifting:\n",
    "df_ML.dropna(inplace=True)"
   ]
  },
  {
   "cell_type": "markdown",
   "metadata": {},
   "source": [
    "## Win and Loss Distributions of Features:"
   ]
  },
  {
   "cell_type": "code",
   "execution_count": 31,
   "metadata": {},
   "outputs": [],
   "source": [
    "df_ML_win = df_ML.select_dtypes(include=['number'])[df_ML.WinLoss==1]"
   ]
  },
  {
   "cell_type": "code",
   "execution_count": 32,
   "metadata": {},
   "outputs": [],
   "source": [
    "df_ML_loss = df_ML.select_dtypes(include=['number'])[df_ML.WinLoss==0]"
   ]
  },
  {
   "cell_type": "code",
   "execution_count": 33,
   "metadata": {},
   "outputs": [
    {
     "data": {
      "text/plain": [
       "206"
      ]
     },
     "execution_count": 33,
     "metadata": {},
     "output_type": "execute_result"
    }
   ],
   "source": [
    "number_list = df_ML_win.columns\n",
    "len(number_list)"
   ]
  },
  {
   "cell_type": "markdown",
   "metadata": {},
   "source": [
    "### Checking distribution differences between winners and losers via hypothesis testing:"
   ]
  },
  {
   "cell_type": "code",
   "execution_count": 34,
   "metadata": {},
   "outputs": [],
   "source": [
    "series_list=[]\n",
    "\n",
    "for m in range(206):\n",
    "    test_stat1, p_value1 = ttest_ind(df_ML_win[number_list[m]], df_ML_loss[number_list[m]])\n",
    "    \n",
    "    series_list.append([number_list[m], test_stat1])\n",
    "\n",
    "df_stat = pd.DataFrame(series_list, columns=['column_name','test_stat_mean'])\n",
    "df_stat.set_index('column_name',inplace=True)\n",
    "df_stat.replace([np.inf, -np.inf], np.nan,inplace=True)"
   ]
  },
  {
   "cell_type": "code",
   "execution_count": 35,
   "metadata": {},
   "outputs": [
    {
     "data": {
      "text/plain": [
       "column_name\n",
       "Age_n2                         19.56\n",
       "Age_n1_n2                      19.56\n",
       "Marginexp5                     13.57\n",
       "Margin_n1exp5                  13.55\n",
       "Age_n1                         13.18\n",
       "Inside50sscaleexp5             12.92\n",
       "Age                            12.88\n",
       "Inside50sexp5                  12.79\n",
       "Margin_n2exp5                  12.56\n",
       "Score_n2exp5                   12.56\n",
       "Margin_n1_n2exp5               12.56\n",
       "WinLossexp5                    12.56\n",
       "Score_n1_n2exp5                12.53\n",
       "Score_n1exp5                   11.42\n",
       "Scoreexp5                      11.25\n",
       "Inside50s_n1exp5               11.24\n",
       "Inside50s_n1scaleexp5          11.23\n",
       "BrownlowVotesscaleexp5         11.17\n",
       "BrownlowVotes_n1_n2scaleexp5   11.17\n",
       "BrownlowVotes_n1scaleexp5      11.17\n",
       "Name: test_stat_mean, dtype: float64"
      ]
     },
     "execution_count": 35,
     "metadata": {},
     "output_type": "execute_result"
    }
   ],
   "source": [
    "df_stat.dropna().abs().sort_values('test_stat_mean',ascending=False)['test_stat_mean'].head(20)"
   ]
  },
  {
   "cell_type": "markdown",
   "metadata": {},
   "source": [
    "### Based on the appearance of the distributions, it seems that the most important features in determining a win are Age, Brownlow Votes, Goal Assists, and previous Points per Percent Played. "
   ]
  },
  {
   "cell_type": "markdown",
   "metadata": {},
   "source": [
    "# Machine Learning:\n",
    "## Making dummy variables:"
   ]
  },
  {
   "cell_type": "code",
   "execution_count": 36,
   "metadata": {
    "scrolled": true
   },
   "outputs": [
    {
     "data": {
      "text/html": [
       "<div>\n",
       "<style scoped>\n",
       "    .dataframe tbody tr th:only-of-type {\n",
       "        vertical-align: middle;\n",
       "    }\n",
       "\n",
       "    .dataframe tbody tr th {\n",
       "        vertical-align: top;\n",
       "    }\n",
       "\n",
       "    .dataframe thead th {\n",
       "        text-align: right;\n",
       "    }\n",
       "</style>\n",
       "<table border=\"1\" class=\"dataframe\">\n",
       "  <thead>\n",
       "    <tr style=\"text-align: right;\">\n",
       "      <th></th>\n",
       "      <th>Team</th>\n",
       "      <th>Opposition</th>\n",
       "      <th>Venue</th>\n",
       "    </tr>\n",
       "  </thead>\n",
       "  <tbody>\n",
       "    <tr>\n",
       "      <th>1980</th>\n",
       "      <td>Collingwood</td>\n",
       "      <td>Western Bulldogs</td>\n",
       "      <td>Docklands</td>\n",
       "    </tr>\n",
       "    <tr>\n",
       "      <th>2002</th>\n",
       "      <td>Western Bulldogs</td>\n",
       "      <td>Collingwood</td>\n",
       "      <td>Docklands</td>\n",
       "    </tr>\n",
       "    <tr>\n",
       "      <th>2024</th>\n",
       "      <td>Adelaide</td>\n",
       "      <td>Sydney</td>\n",
       "      <td>S.C.G.</td>\n",
       "    </tr>\n",
       "    <tr>\n",
       "      <th>2046</th>\n",
       "      <td>Sydney</td>\n",
       "      <td>Adelaide</td>\n",
       "      <td>S.C.G.</td>\n",
       "    </tr>\n",
       "    <tr>\n",
       "      <th>2068</th>\n",
       "      <td>Brisbane Lions</td>\n",
       "      <td>Essendon</td>\n",
       "      <td>Docklands</td>\n",
       "    </tr>\n",
       "  </tbody>\n",
       "</table>\n",
       "</div>"
      ],
      "text/plain": [
       "                  Team        Opposition      Venue\n",
       "1980       Collingwood  Western Bulldogs  Docklands\n",
       "2002  Western Bulldogs       Collingwood  Docklands\n",
       "2024          Adelaide            Sydney     S.C.G.\n",
       "2046            Sydney          Adelaide     S.C.G.\n",
       "2068    Brisbane Lions          Essendon  Docklands"
      ]
     },
     "execution_count": 36,
     "metadata": {},
     "output_type": "execute_result"
    }
   ],
   "source": [
    "df_ML.select_dtypes(include=['object']).head()"
   ]
  },
  {
   "cell_type": "code",
   "execution_count": 37,
   "metadata": {},
   "outputs": [],
   "source": [
    "categorical_list = df_ML.select_dtypes(include=['object']).columns"
   ]
  },
  {
   "cell_type": "code",
   "execution_count": 38,
   "metadata": {},
   "outputs": [],
   "source": [
    "df_ML = pd.get_dummies(df_ML,columns=categorical_list,drop_first=True)"
   ]
  },
  {
   "cell_type": "code",
   "execution_count": 39,
   "metadata": {},
   "outputs": [],
   "source": [
    "df_ML = df_ML[df_ML.WinLoss!=.5]"
   ]
  },
  {
   "cell_type": "markdown",
   "metadata": {},
   "source": [
    "### Alternating between dropping wins and losses to remove one team from each game:"
   ]
  },
  {
   "cell_type": "code",
   "execution_count": 40,
   "metadata": {},
   "outputs": [],
   "source": [
    "row_list=[]\n",
    "for row in range(len(df_ML)):\n",
    "    if (row % 2!=0) & (df_ML.WinLoss.iloc[row]==0):\n",
    "        row_list.append(df_ML.index[row])\n",
    "    elif (row % 2==0) & (df_ML.WinLoss.iloc[row]!=0):\n",
    "        row_list.append(df_ML.index[row])"
   ]
  },
  {
   "cell_type": "code",
   "execution_count": 41,
   "metadata": {},
   "outputs": [],
   "source": [
    "df_ML.drop(row_list,inplace=True)"
   ]
  },
  {
   "cell_type": "code",
   "execution_count": 42,
   "metadata": {},
   "outputs": [
    {
     "data": {
      "text/plain": [
       "1.00    715\n",
       "0.00    715\n",
       "Name: WinLoss, dtype: int64"
      ]
     },
     "execution_count": 42,
     "metadata": {},
     "output_type": "execute_result"
    }
   ],
   "source": [
    "df_ML.WinLoss.value_counts()"
   ]
  },
  {
   "cell_type": "markdown",
   "metadata": {},
   "source": [
    "## Spliting Data and Creating Model:"
   ]
  },
  {
   "cell_type": "code",
   "execution_count": 43,
   "metadata": {},
   "outputs": [],
   "source": [
    "X = df_ML.drop(['WinLoss','Date'],axis=1)\n",
    "y = df_ML['WinLoss']"
   ]
  },
  {
   "cell_type": "code",
   "execution_count": 44,
   "metadata": {},
   "outputs": [],
   "source": [
    "from sklearn.linear_model import LogisticRegression\n",
    "\n",
    "#for function below\n",
    "from sklearn.model_selection import StratifiedKFold\n",
    "from time import time\n",
    "from sklearn.metrics import make_scorer,confusion_matrix,accuracy_score,\\\n",
    "    precision_score,recall_score,f1_score,roc_auc_score,matthews_corrcoef"
   ]
  },
  {
   "cell_type": "code",
   "execution_count": 45,
   "metadata": {},
   "outputs": [],
   "source": [
    "def metrics_function(target,pred):\n",
    "    return accuracy_score(target, pred),precision_score(target, pred),\\\n",
    "        recall_score(target, pred),f1_score(target, pred),\\\n",
    "        roc_auc_score(target, pred),matthews_corrcoef(target, pred)\n",
    "\n",
    "def STRAT_TEST(clf,X_all,y_all,folds_num,row_factor):\n",
    "    start=time()\n",
    "    \n",
    "    SFLD=StratifiedKFold(n_splits=folds_num,random_state=0,shuffle=True)\n",
    "    print ('{}:'.format(clf.__class__.__name__),'\\n')\n",
    "    \n",
    "    acc_list_train=[]\n",
    "    acc_list_test=[]\n",
    "    prc_list_train=[]\n",
    "    prc_list_test=[]\n",
    "    rcal_list_train=[]\n",
    "    rcal_list_test=[]\n",
    "    f1_list_train=[]\n",
    "    f1_list_test=[]\n",
    "    matt_list_train=[]\n",
    "    matt_list_test=[]\n",
    "    AUC_list_train=[]\n",
    "    AUC_list_test=[]\n",
    "    \n",
    "    samp_size=X_all.shape[0]//row_factor\n",
    "    \n",
    "    for fold,(train_index,target_index) in enumerate(SFLD.split(X_all[:samp_size],\n",
    "                                                                y_all[:samp_size])):\n",
    "        X_train=X_all.iloc[train_index].values\n",
    "        y_train=y_all.iloc[train_index].values\n",
    "\n",
    "        X_test=X_all.iloc[target_index].values\n",
    "        y_test=y_all.iloc[target_index].values\n",
    "        \n",
    "        clf.fit(X_train,y_train)\n",
    "        y_pred1=clf.predict(X_train)\n",
    "        y_pred2=clf.predict(X_test)\n",
    "\n",
    "        train_acc,train_prc,train_rcal,train_f1,train_auc,train_matt=metrics_function(y_train,y_pred1)\n",
    "        \n",
    "        test_acc,test_prc,test_rcal,test_f1,test_auc,test_matt=metrics_function(y_test,y_pred2)\n",
    "        \n",
    "        acc_list_train.append(train_acc)\n",
    "        acc_list_test.append(test_acc)\n",
    "        prc_list_train.append(train_prc)\n",
    "        prc_list_test.append(test_prc)\n",
    "        rcal_list_train.append(train_rcal)\n",
    "        rcal_list_test.append(test_rcal)\n",
    "        \n",
    "        f1_list_train.append(train_f1)\n",
    "        f1_list_test.append(test_f1)\n",
    "        matt_list_train.append(train_matt)\n",
    "        matt_list_test.append(test_matt)\n",
    "        AUC_list_train.append(train_auc)\n",
    "        AUC_list_test.append(test_auc)\n",
    "    \n",
    "    print(\"Averages:\"'\\n')\n",
    "    \n",
    "    print(\"Train acc: {}, Test acc: {}\".format(np.mean(acc_list_train),\n",
    "                                               np.mean(acc_list_test)))\n",
    "    print(\"Train prc: {}, Test prc: {}\".format(np.mean(prc_list_train),\n",
    "                                               np.mean(prc_list_test)))\n",
    "    print(\"Train recall: {}, Test recall: {}\".format(np.mean(rcal_list_train),\n",
    "                                                     np.mean(rcal_list_test)),'\\n')\n",
    "    \n",
    "    print(\"Train f1: {}, Test f1: {}\".format(np.mean(f1_list_train),\n",
    "                                             np.mean(f1_list_test)))\n",
    "    print(\"Train MattCC: {}, Test MattCC: {}\".format(np.mean(matt_list_train),\n",
    "                                                     np.mean(matt_list_test)))\n",
    "    print(\"Train AUC: {}, Test AUC: {}\".format(np.mean(AUC_list_train),\n",
    "                                               np.mean(AUC_list_test)),'\\n'*2)\n",
    "        \n",
    "    print(\"Sample Size: {}, Folds Num: {}, Time: {}\".format(samp_size,folds_num,\n",
    "                                                            time()-start),'\\n'*2)"
   ]
  },
  {
   "cell_type": "code",
   "execution_count": 46,
   "metadata": {},
   "outputs": [],
   "source": [
    "clf_A = LogisticRegression(penalty='l1',tol=1e-1,C=.15,solver='liblinear',random_state=0)"
   ]
  },
  {
   "cell_type": "code",
   "execution_count": 47,
   "metadata": {},
   "outputs": [
    {
     "name": "stdout",
     "output_type": "stream",
     "text": [
      "LogisticRegression: \n",
      "\n",
      "Averages:\n",
      "\n",
      "Train acc: 0.930885513531133, Test acc: 0.9181488129232276\n",
      "Train prc: 0.9262352981011546, Test prc: 0.9132667008576848\n",
      "Train recall: 0.9363643771809975, Test recall: 0.9244513339316309 \n",
      "\n",
      "Train f1: 0.9312641674763283, Test f1: 0.9186917793393664\n",
      "Train MattCC: 0.8618380108845127, Test MattCC: 0.836608388186983\n",
      "Train AUC: 0.930885513531133, Test AUC: 0.9181488129232276 \n",
      "\n",
      "\n",
      "Sample Size: 1430, Folds Num: 7, Time: 0.2578403949737549 \n",
      "\n",
      "\n"
     ]
    }
   ],
   "source": [
    "STRAT_TEST(clf_A, X, y, 7, 1)"
   ]
  },
  {
   "cell_type": "markdown",
   "metadata": {},
   "source": [
    "### Previous win percentage of odds favorites from 2009-2013\n",
    "(according to https://www.bigfooty.com/forum/threads/how-often-do-favourites-win.1004437/)\n",
    "\n",
    "##### In 2009 it was 50/72 or 69.4% - (only data available)\n",
    "##### In 2010 it was 109/176 or 61.9%\n",
    "##### In 2011 it was 142/187 or 75.9%\n",
    "##### In 2012 it was 155/198 or 78.2%\n",
    "##### So far in 2013 it was 41/54 or 75.9%\n",
    "\n",
    "### This model predicts the winner over 90% of the time."
   ]
  },
  {
   "cell_type": "markdown",
   "metadata": {},
   "source": [
    "# Predicting AFL Fantasy points:"
   ]
  },
  {
   "cell_type": "code",
   "execution_count": 48,
   "metadata": {},
   "outputs": [],
   "source": [
    "df_F = df.copy()\n",
    "fantasy_points = {'Kicks':3,'Handballs':2,'Marks':3,'Tackles':4,'FreesFor':1,\n",
    "                  'FreesAgainst':-3,'Hitouts':1,'Goals':6,'Behinds':1}"
   ]
  },
  {
   "cell_type": "code",
   "execution_count": 49,
   "metadata": {},
   "outputs": [],
   "source": [
    "new_list=[]\n",
    "\n",
    "#Creating fantasy columns\n",
    "for keys in fantasy_points.keys():\n",
    "    df_F[keys+'_fantasy'] = df_F[keys]*fantasy_points[keys]\n",
    "    new_list.append(keys+'_fantasy')\n",
    "    \n",
    "df_F['fantasy_points'] = pd.Series()   \n",
    "    \n",
    "for cols in fantasy_points.keys():\n",
    "    df_F.fantasy_points = df_F.fantasy_points.add(df_F[cols+'_fantasy'],fill_value=0)\n",
    "\n",
    "df_F['target'] = df_F.fantasy_points"
   ]
  },
  {
   "cell_type": "code",
   "execution_count": 50,
   "metadata": {},
   "outputs": [
    {
     "data": {
      "text/html": [
       "<div>\n",
       "<style scoped>\n",
       "    .dataframe tbody tr th:only-of-type {\n",
       "        vertical-align: middle;\n",
       "    }\n",
       "\n",
       "    .dataframe tbody tr th {\n",
       "        vertical-align: top;\n",
       "    }\n",
       "\n",
       "    .dataframe thead th {\n",
       "        text-align: right;\n",
       "    }\n",
       "</style>\n",
       "<table border=\"1\" class=\"dataframe\">\n",
       "  <thead>\n",
       "    <tr style=\"text-align: right;\">\n",
       "      <th></th>\n",
       "      <th></th>\n",
       "      <th>Kicks_fantasy</th>\n",
       "      <th>Handballs_fantasy</th>\n",
       "      <th>Marks_fantasy</th>\n",
       "      <th>Tackles_fantasy</th>\n",
       "      <th>FreesFor_fantasy</th>\n",
       "      <th>FreesAgainst_fantasy</th>\n",
       "      <th>Hitouts_fantasy</th>\n",
       "      <th>Goals_fantasy</th>\n",
       "      <th>Behinds_fantasy</th>\n",
       "      <th>fantasy_points</th>\n",
       "    </tr>\n",
       "    <tr>\n",
       "      <th>Season</th>\n",
       "      <th>Round</th>\n",
       "      <th></th>\n",
       "      <th></th>\n",
       "      <th></th>\n",
       "      <th></th>\n",
       "      <th></th>\n",
       "      <th></th>\n",
       "      <th></th>\n",
       "      <th></th>\n",
       "      <th></th>\n",
       "      <th></th>\n",
       "    </tr>\n",
       "  </thead>\n",
       "  <tbody>\n",
       "    <tr>\n",
       "      <th rowspan=\"5\" valign=\"top\">2012</th>\n",
       "      <th>R1</th>\n",
       "      <td>42</td>\n",
       "      <td>8</td>\n",
       "      <td>15</td>\n",
       "      <td>20</td>\n",
       "      <td>0</td>\n",
       "      <td>-3</td>\n",
       "      <td>0</td>\n",
       "      <td>12</td>\n",
       "      <td>5</td>\n",
       "      <td>99.00</td>\n",
       "    </tr>\n",
       "    <tr>\n",
       "      <th>R1</th>\n",
       "      <td>39</td>\n",
       "      <td>24</td>\n",
       "      <td>9</td>\n",
       "      <td>8</td>\n",
       "      <td>0</td>\n",
       "      <td>-3</td>\n",
       "      <td>0</td>\n",
       "      <td>12</td>\n",
       "      <td>0</td>\n",
       "      <td>89.00</td>\n",
       "    </tr>\n",
       "    <tr>\n",
       "      <th>R1</th>\n",
       "      <td>15</td>\n",
       "      <td>24</td>\n",
       "      <td>12</td>\n",
       "      <td>12</td>\n",
       "      <td>2</td>\n",
       "      <td>0</td>\n",
       "      <td>0</td>\n",
       "      <td>0</td>\n",
       "      <td>0</td>\n",
       "      <td>65.00</td>\n",
       "    </tr>\n",
       "    <tr>\n",
       "      <th>R1</th>\n",
       "      <td>42</td>\n",
       "      <td>10</td>\n",
       "      <td>18</td>\n",
       "      <td>28</td>\n",
       "      <td>2</td>\n",
       "      <td>0</td>\n",
       "      <td>0</td>\n",
       "      <td>6</td>\n",
       "      <td>3</td>\n",
       "      <td>109.00</td>\n",
       "    </tr>\n",
       "    <tr>\n",
       "      <th>R1</th>\n",
       "      <td>15</td>\n",
       "      <td>6</td>\n",
       "      <td>3</td>\n",
       "      <td>4</td>\n",
       "      <td>0</td>\n",
       "      <td>0</td>\n",
       "      <td>0</td>\n",
       "      <td>0</td>\n",
       "      <td>0</td>\n",
       "      <td>28.00</td>\n",
       "    </tr>\n",
       "  </tbody>\n",
       "</table>\n",
       "</div>"
      ],
      "text/plain": [
       "              Kicks_fantasy  Handballs_fantasy  Marks_fantasy  \\\n",
       "Season Round                                                    \n",
       "2012   R1                42                  8             15   \n",
       "       R1                39                 24              9   \n",
       "       R1                15                 24             12   \n",
       "       R1                42                 10             18   \n",
       "       R1                15                  6              3   \n",
       "\n",
       "              Tackles_fantasy  FreesFor_fantasy  FreesAgainst_fantasy  \\\n",
       "Season Round                                                            \n",
       "2012   R1                  20                 0                    -3   \n",
       "       R1                   8                 0                    -3   \n",
       "       R1                  12                 2                     0   \n",
       "       R1                  28                 2                     0   \n",
       "       R1                   4                 0                     0   \n",
       "\n",
       "              Hitouts_fantasy  Goals_fantasy  Behinds_fantasy  fantasy_points  \n",
       "Season Round                                                                   \n",
       "2012   R1                   0             12                5           99.00  \n",
       "       R1                   0             12                0           89.00  \n",
       "       R1                   0              0                0           65.00  \n",
       "       R1                   0              6                3          109.00  \n",
       "       R1                   0              0                0           28.00  "
      ]
     },
     "execution_count": 50,
     "metadata": {},
     "output_type": "execute_result"
    }
   ],
   "source": [
    "df_F[new_list+['fantasy_points']].head()"
   ]
  },
  {
   "cell_type": "code",
   "execution_count": 51,
   "metadata": {},
   "outputs": [],
   "source": [
    "df_F.insert(11, 'FantasyPerPercentPlayed',df_F['fantasy_points']/df_F['PercentPlayed'])"
   ]
  },
  {
   "cell_type": "code",
   "execution_count": 52,
   "metadata": {},
   "outputs": [],
   "source": [
    "df_F.drop(new_list,axis=1,inplace=True)\n",
    "new_scaling_list = new_scaling_list + ['fantasy_points'] + ['FantasyPerPercentPlayed']"
   ]
  },
  {
   "cell_type": "markdown",
   "metadata": {},
   "source": [
    "## Fantasy points by position:"
   ]
  },
  {
   "cell_type": "code",
   "execution_count": 53,
   "metadata": {},
   "outputs": [
    {
     "name": "stdout",
     "output_type": "stream",
     "text": [
      "Defender              20950\n",
      "Forward               15047\n",
      "Midfield              14970\n",
      "Midfield, Forward      4216\n",
      "Ruck                   3111\n",
      "Forward, Ruck          1099\n",
      "Defender, Midfield      775\n",
      "Defender, Forward       771\n",
      "Midfield, Ruck            1\n",
      "Name: Position, dtype: int64\n"
     ]
    }
   ],
   "source": [
    "print(df_F.Position.value_counts())\n",
    "\n",
    "hist_names = df_F.Position.value_counts().index.drop('Midfield, Ruck')"
   ]
  },
  {
   "cell_type": "code",
   "execution_count": 54,
   "metadata": {},
   "outputs": [
    {
     "name": "stdout",
     "output_type": "stream",
     "text": [
      "Defender: \n",
      "\n",
      "count   20950.00\n",
      "mean       64.59\n",
      "std        24.83\n",
      "min        -3.00\n",
      "25%        47.00\n",
      "50%        63.00\n",
      "75%        80.00\n",
      "max       189.00\n",
      "Name: fantasy_points, dtype: float64 \n",
      "\n",
      "\n",
      "Forward: \n",
      "\n",
      "count   15047.00\n",
      "mean       66.19\n",
      "std        25.39\n",
      "min        -3.00\n",
      "25%        49.00\n",
      "50%        65.00\n",
      "75%        83.00\n",
      "max       204.00\n",
      "Name: fantasy_points, dtype: float64 \n",
      "\n",
      "\n",
      "Midfield: \n",
      "\n",
      "count   14970.00\n",
      "mean       83.18\n",
      "std        28.56\n",
      "min         0.00\n",
      "25%        64.00\n",
      "50%        83.00\n",
      "75%       102.00\n",
      "max       195.00\n",
      "Name: fantasy_points, dtype: float64 \n",
      "\n",
      "\n",
      "Midfield, Forward: \n",
      "\n",
      "count   4216.00\n",
      "mean      76.58\n",
      "std       26.72\n",
      "min        0.00\n",
      "25%       58.00\n",
      "50%       76.00\n",
      "75%       94.00\n",
      "max      187.00\n",
      "Name: fantasy_points, dtype: float64 \n",
      "\n",
      "\n",
      "Ruck: \n",
      "\n",
      "count   3111.00\n",
      "mean      76.55\n",
      "std       26.09\n",
      "min       -1.00\n",
      "25%       59.00\n",
      "50%       76.00\n",
      "75%       94.00\n",
      "max      177.00\n",
      "Name: fantasy_points, dtype: float64 \n",
      "\n",
      "\n",
      "Forward, Ruck: \n",
      "\n",
      "count   1099.00\n",
      "mean      68.30\n",
      "std       25.71\n",
      "min        3.00\n",
      "25%       51.00\n",
      "50%       67.00\n",
      "75%       85.00\n",
      "max      154.00\n",
      "Name: fantasy_points, dtype: float64 \n",
      "\n",
      "\n",
      "Defender, Midfield: \n",
      "\n",
      "count   775.00\n",
      "mean     79.75\n",
      "std      27.41\n",
      "min       2.00\n",
      "25%      61.00\n",
      "50%      80.00\n",
      "75%      99.00\n",
      "max     157.00\n",
      "Name: fantasy_points, dtype: float64 \n",
      "\n",
      "\n",
      "Defender, Forward: \n",
      "\n",
      "count   771.00\n",
      "mean     56.85\n",
      "std      23.11\n",
      "min      -6.00\n",
      "25%      40.00\n",
      "50%      56.00\n",
      "75%      72.00\n",
      "max     153.00\n",
      "Name: fantasy_points, dtype: float64 \n",
      "\n",
      "\n"
     ]
    }
   ],
   "source": [
    "for names in hist_names:\n",
    "    print(names+':','\\n')\n",
    "    print(df_F[df_F.Position==names].fantasy_points.describe(),'\\n'*2)"
   ]
  },
  {
   "cell_type": "markdown",
   "metadata": {},
   "source": [
    "### There is a commonly held belief that, in AFL Fantasy, midfielders are the best position for points, and this information confirms that."
   ]
  },
  {
   "cell_type": "markdown",
   "metadata": {},
   "source": [
    "## Normalizing all players by round (n1):"
   ]
  },
  {
   "cell_type": "code",
   "execution_count": 55,
   "metadata": {
    "scrolled": false
   },
   "outputs": [],
   "source": [
    "templist=[]\n",
    "for col in new_scaling_list:\n",
    "    df_F[col+'_n1'] = df_F.groupby(['Season','Round'])[col].transform(lambda x:(x.astype(float) - min(x))/(max(x)-min(x)))    \n",
    "    templist.append(col+'_n1')\n",
    "\n",
    "new_scaling_list += templist"
   ]
  },
  {
   "cell_type": "code",
   "execution_count": 56,
   "metadata": {},
   "outputs": [],
   "source": [
    "templist=[]\n",
    "for col in new_normalize_list:\n",
    "    df_F[col+'_n1'] = df_F.groupby(['Season','Round'])[col].transform(lambda x: zscore(x,ddof=1))\n",
    "    templist.append(col+'_n1')\n",
    "\n",
    "new_normalize_list += templist"
   ]
  },
  {
   "cell_type": "markdown",
   "metadata": {},
   "source": [
    "## Normalizing further by game (n2):"
   ]
  },
  {
   "cell_type": "code",
   "execution_count": 57,
   "metadata": {},
   "outputs": [],
   "source": [
    "df_F = df_F.set_index(['Teams'],append=1).sort_index()"
   ]
  },
  {
   "cell_type": "code",
   "execution_count": 58,
   "metadata": {},
   "outputs": [],
   "source": [
    "templist=[]\n",
    "for col in new_scaling_list:\n",
    "    df_F[col+'_n2'] = df_F.groupby(['Season','Round','Teams'])[col].transform(lambda x:(x.astype(float) - min(x))/(max(x)-min(x)))\n",
    "    templist.append(col+'_n2')\n",
    "\n",
    "new_scaling_list += templist"
   ]
  },
  {
   "cell_type": "code",
   "execution_count": 59,
   "metadata": {},
   "outputs": [],
   "source": [
    "templist=[]\n",
    "for col in new_normalize_list:\n",
    "    df_F[col+'_n2'] = df_F.groupby(['Season','Round','Teams'])[col].transform(lambda x: zscore(x,ddof=1))\n",
    "    templist.append(col+'_n2')\n",
    "\n",
    "new_normalize_list += templist"
   ]
  },
  {
   "cell_type": "code",
   "execution_count": 60,
   "metadata": {
    "scrolled": false
   },
   "outputs": [],
   "source": [
    "df_F.fillna(0,inplace=True)"
   ]
  },
  {
   "cell_type": "markdown",
   "metadata": {},
   "source": [
    "# Comparing points made per percent of game to various characteristics relative to players in each game:"
   ]
  },
  {
   "cell_type": "code",
   "execution_count": 61,
   "metadata": {},
   "outputs": [],
   "source": [
    "df_F.reset_index(inplace=True)\n",
    "df_F.drop(['Season','Round'],axis=1,inplace=True)\n",
    "\n",
    "df_F = df_F.set_index(['Date','Teams','Team']).sort_index()"
   ]
  },
  {
   "cell_type": "markdown",
   "metadata": {},
   "source": [
    "## Scaling the data by the percent played:"
   ]
  },
  {
   "cell_type": "code",
   "execution_count": 62,
   "metadata": {
    "scrolled": true
   },
   "outputs": [],
   "source": [
    "templist=[]\n",
    "for col in new_scaling_list:\n",
    "    df_F[col+'scale'] = df_F[col].multiply(df_F.PercentPlayed/100,axis=0)\n",
    "    templist.append(col+'scale')\n",
    "    \n",
    "new_scaling_list += templist"
   ]
  },
  {
   "cell_type": "code",
   "execution_count": 63,
   "metadata": {
    "scrolled": false
   },
   "outputs": [],
   "source": [
    "new_number_list = new_scaling_list+new_normalize_list"
   ]
  },
  {
   "cell_type": "markdown",
   "metadata": {},
   "source": [
    "## Offsetting columns for time series analysis:"
   ]
  },
  {
   "cell_type": "code",
   "execution_count": 64,
   "metadata": {
    "scrolled": false
   },
   "outputs": [],
   "source": [
    "df_F.reset_index(inplace=True)\n",
    "df_F.drop(['Teams','PercentPlayed'],axis=1,inplace=True)"
   ]
  },
  {
   "cell_type": "code",
   "execution_count": 65,
   "metadata": {},
   "outputs": [],
   "source": [
    "Offset_Fantasy_List = new_number_list + ['WinLoss']\n",
    "\n",
    "for x in lose:\n",
    "    Offset_Fantasy_List.remove(x)"
   ]
  },
  {
   "cell_type": "markdown",
   "metadata": {},
   "source": [
    "### Creating a 5-game exponentially weighted moving average:"
   ]
  },
  {
   "cell_type": "code",
   "execution_count": 66,
   "metadata": {},
   "outputs": [],
   "source": [
    "FantasyList=[]\n",
    "\n",
    "for column_name in Offset_Fantasy_List:  \n",
    "    for i in range(1):\n",
    "        df_F[column_name+'exp'+str(i+5)] = df_F.set_index('Date',append=1).sort_index(level=1)\\\n",
    "            .groupby('Player')[column_name].rolling(window=i+5,min_periods=i+5,win_types='exponential')\\\n",
    "            .mean().groupby('Player').shift().reset_index(['Player','Date'], drop=1)\n",
    "\n",
    "        FantasyList.append(column_name+'exp'+str(i+5))"
   ]
  },
  {
   "cell_type": "code",
   "execution_count": 67,
   "metadata": {},
   "outputs": [],
   "source": [
    "df_F.drop(Offset_Fantasy_List,axis=1,inplace=True)"
   ]
  },
  {
   "cell_type": "code",
   "execution_count": 68,
   "metadata": {},
   "outputs": [],
   "source": [
    "#Fixing nulls again because of shifting:\n",
    "df_F.dropna(inplace=True)"
   ]
  },
  {
   "cell_type": "markdown",
   "metadata": {},
   "source": [
    "## Correlation Between AFL Fantasy Points and Other Features by Position:"
   ]
  },
  {
   "cell_type": "code",
   "execution_count": 69,
   "metadata": {},
   "outputs": [],
   "source": [
    "column_list = df_F.select_dtypes(include=['number']).drop('target',axis=1).columns"
   ]
  },
  {
   "cell_type": "markdown",
   "metadata": {},
   "source": [
    "## Defender:"
   ]
  },
  {
   "cell_type": "code",
   "execution_count": 70,
   "metadata": {
    "scrolled": false
   },
   "outputs": [
    {
     "data": {
      "text/plain": [
       "Disposalsexp5                             0.51\n",
       "FantasyPerPercentPlayedscaleexp5          0.51\n",
       "fantasy_pointsexp5                        0.51\n",
       "Disposals_n1exp5                          0.50\n",
       "fantasy_points_n1exp5                     0.50\n",
       "Disposals_n2exp5                          0.50\n",
       "Disposals_n1_n2exp5                       0.50\n",
       "FantasyPerPercentPlayed_n2scaleexp5       0.50\n",
       "FantasyPerPercentPlayed_n1_n2scaleexp5    0.50\n",
       "fantasy_points_n1_n2exp5                  0.49\n",
       "fantasy_points_n2exp5                     0.49\n",
       "FantasyPerPercentPlayedexp5               0.49\n",
       "Disposalsscaleexp5                        0.48\n",
       "FantasyPerPercentPlayed_n1scaleexp5       0.48\n",
       "Disposals_n1scaleexp5                     0.48\n",
       "FantasyPerPercentPlayed_n1_n2exp5         0.48\n",
       "FantasyPerPercentPlayed_n2exp5            0.48\n",
       "Disposals_n2scaleexp5                     0.48\n",
       "Disposals_n1_n2scaleexp5                  0.48\n",
       "Kicksexp5                                 0.48\n",
       "Kicks_n1exp5                              0.47\n",
       "Kicks_n1_n2exp5                           0.47\n",
       "Kicks_n2exp5                              0.47\n",
       "fantasy_pointsscaleexp5                   0.47\n",
       "fantasy_points_n1_n2scaleexp5             0.47\n",
       "fantasy_points_n2scaleexp5                0.47\n",
       "fantasy_points_n1scaleexp5                0.47\n",
       "FantasyPerPercentPlayed_n1exp5            0.47\n",
       "UncontendedPossessionsexp5                0.46\n",
       "UncontendedPossessions_n2exp5             0.46\n",
       "                                          ... \n",
       "FreesAgainstexp5                          0.00\n",
       "FreesAgainst_n1exp5                       0.00\n",
       "FreesAgainst_n1_n2scaleexp5              -0.00\n",
       "FreesAgainst_n2scaleexp5                 -0.00\n",
       "FreesAgainst_n1scaleexp5                 -0.01\n",
       "FreesAgainstscaleexp5                    -0.01\n",
       "ContestedMarks_n1exp5                    -0.03\n",
       "ContestedMarksexp5                       -0.03\n",
       "ContestedMarks_n1scaleexp5               -0.03\n",
       "ContestedMarksscaleexp5                  -0.03\n",
       "ContestedMarks_n2exp5                    -0.03\n",
       "ContestedMarks_n1_n2exp5                 -0.03\n",
       "ContestedMarks_n2scaleexp5               -0.04\n",
       "ContestedMarks_n1_n2scaleexp5            -0.04\n",
       "Weight_n2                                -0.20\n",
       "Weight_n1_n2                             -0.20\n",
       "Weight_n1                                -0.20\n",
       "Weight                                   -0.20\n",
       "OnePercentersscaleexp5                   -0.22\n",
       "OnePercenters_n1scaleexp5                -0.22\n",
       "OnePercenters_n2scaleexp5                -0.23\n",
       "OnePercenters_n1_n2scaleexp5             -0.23\n",
       "OnePercentersexp5                        -0.23\n",
       "OnePercenters_n1exp5                     -0.23\n",
       "OnePercenters_n1_n2exp5                  -0.24\n",
       "OnePercenters_n2exp5                     -0.24\n",
       "Height_n1_n2                             -0.25\n",
       "Height_n2                                -0.25\n",
       "Height                                   -0.25\n",
       "Height_n1                                -0.25\n",
       "Length: 221, dtype: float64"
      ]
     },
     "execution_count": 70,
     "metadata": {},
     "output_type": "execute_result"
    }
   ],
   "source": [
    "df_F[df_F.Position=='Defender'][column_list].corrwith(df_F[df_F.Position=='Defender'].target).sort_values(ascending=False)"
   ]
  },
  {
   "cell_type": "markdown",
   "metadata": {},
   "source": [
    "## Forward:"
   ]
  },
  {
   "cell_type": "code",
   "execution_count": 71,
   "metadata": {
    "scrolled": false
   },
   "outputs": [
    {
     "data": {
      "text/plain": [
       "FantasyPerPercentPlayedscaleexp5          0.40\n",
       "fantasy_pointsexp5                        0.40\n",
       "fantasy_points_n1exp5                     0.39\n",
       "fantasy_pointsscaleexp5                   0.39\n",
       "fantasy_points_n1scaleexp5                0.39\n",
       "fantasy_points_n1_n2exp5                  0.39\n",
       "fantasy_points_n2exp5                     0.39\n",
       "fantasy_points_n1_n2scaleexp5             0.39\n",
       "fantasy_points_n2scaleexp5                0.39\n",
       "Disposalsscaleexp5                        0.38\n",
       "FantasyPerPercentPlayed_n1_n2scaleexp5    0.38\n",
       "FantasyPerPercentPlayed_n2scaleexp5       0.38\n",
       "Disposals_n1scaleexp5                     0.38\n",
       "FantasyPerPercentPlayed_n1scaleexp5       0.38\n",
       "Kicksscaleexp5                            0.38\n",
       "Kicks_n1scaleexp5                         0.37\n",
       "Kicksexp5                                 0.37\n",
       "Kicks_n2scaleexp5                         0.37\n",
       "Kicks_n1_n2scaleexp5                      0.37\n",
       "Disposalsexp5                             0.37\n",
       "Disposals_n1_n2scaleexp5                  0.37\n",
       "Disposals_n2scaleexp5                     0.37\n",
       "Kicks_n1exp5                              0.37\n",
       "Kicks_n2exp5                              0.36\n",
       "Kicks_n1_n2exp5                           0.36\n",
       "Disposals_n1exp5                          0.36\n",
       "Disposals_n2exp5                          0.35\n",
       "Disposals_n1_n2exp5                       0.35\n",
       "FantasyPerPercentPlayedexp5               0.34\n",
       "FantasyPerPercentPlayed_n1_n2exp5         0.33\n",
       "                                          ... \n",
       "Weight_n1                                 0.06\n",
       "FreesAgainst_n1exp5                       0.06\n",
       "Bounces_n1_n2scaleexp5                    0.05\n",
       "Bounces_n2scaleexp5                       0.05\n",
       "Bouncesscaleexp5                          0.05\n",
       "Bounces_n1scaleexp5                       0.05\n",
       "Bounces_n1_n2exp5                         0.04\n",
       "Bounces_n2exp5                            0.04\n",
       "Bouncesexp5                               0.04\n",
       "Bounces_n1exp5                            0.04\n",
       "OnePercenters_n2scaleexp5                 0.04\n",
       "OnePercenters_n1_n2scaleexp5              0.04\n",
       "OnePercenters_n1scaleexp5                 0.03\n",
       "OnePercentersscaleexp5                    0.03\n",
       "OnePercenters_n1_n2exp5                   0.02\n",
       "OnePercenters_n2exp5                      0.02\n",
       "OnePercenters_n1exp5                      0.02\n",
       "OnePercentersexp5                         0.01\n",
       "Height_n1_n2                              0.01\n",
       "Height_n2                                 0.01\n",
       "Height                                    0.01\n",
       "Height_n1                                 0.01\n",
       "Hitouts_n1scaleexp5                      -0.01\n",
       "Hitoutsscaleexp5                         -0.01\n",
       "Hitouts_n1exp5                           -0.01\n",
       "Hitoutsexp5                              -0.01\n",
       "Hitouts_n2scaleexp5                      -0.01\n",
       "Hitouts_n1_n2scaleexp5                   -0.01\n",
       "Hitouts_n1_n2exp5                        -0.02\n",
       "Hitouts_n2exp5                           -0.02\n",
       "Length: 221, dtype: float64"
      ]
     },
     "execution_count": 71,
     "metadata": {},
     "output_type": "execute_result"
    }
   ],
   "source": [
    "df_F[df_F.Position=='Forward'][column_list].corrwith(df_F[df_F.Position=='Forward'].target).sort_values(ascending=False)"
   ]
  },
  {
   "cell_type": "markdown",
   "metadata": {},
   "source": [
    "## Midfield:"
   ]
  },
  {
   "cell_type": "code",
   "execution_count": 72,
   "metadata": {
    "scrolled": false
   },
   "outputs": [
    {
     "data": {
      "text/plain": [
       "FantasyPerPercentPlayedscaleexp5         0.50\n",
       "fantasy_pointsexp5                       0.50\n",
       "Disposalsexp5                            0.49\n",
       "fantasy_points_n1exp5                    0.49\n",
       "Disposalsscaleexp5                       0.49\n",
       "fantasy_pointsscaleexp5                  0.49\n",
       "Disposals_n1exp5                         0.49\n",
       "fantasy_points_n1scaleexp5               0.48\n",
       "FantasyPerPercentPlayed_n2scaleexp5      0.48\n",
       "FantasyPerPercentPlayed_n1_n2scaleexp5   0.48\n",
       "Disposals_n1scaleexp5                    0.48\n",
       "fantasy_points_n2exp5                    0.48\n",
       "fantasy_points_n1_n2exp5                 0.48\n",
       "Disposals_n1_n2exp5                      0.48\n",
       "Disposals_n2exp5                         0.48\n",
       "Disposals_n1_n2scaleexp5                 0.47\n",
       "Disposals_n2scaleexp5                    0.47\n",
       "fantasy_points_n2scaleexp5               0.47\n",
       "fantasy_points_n1_n2scaleexp5            0.47\n",
       "FantasyPerPercentPlayed_n1scaleexp5      0.47\n",
       "FantasyPerPercentPlayedexp5              0.45\n",
       "FantasyPerPercentPlayed_n2exp5           0.44\n",
       "FantasyPerPercentPlayed_n1_n2exp5        0.44\n",
       "FantasyPerPercentPlayed_n1exp5           0.42\n",
       "Kicksscaleexp5                           0.41\n",
       "Kicksexp5                                0.41\n",
       "ContendedPossessionsscaleexp5            0.41\n",
       "Handballsscaleexp5                       0.41\n",
       "ContendedPossessions_n2scaleexp5         0.41\n",
       "ContendedPossessions_n1_n2scaleexp5      0.41\n",
       "                                         ... \n",
       "ContestedMarks_n1_n2exp5                 0.06\n",
       "MarksInside50_n1scaleexp5                0.06\n",
       "MarksInside50_n1_n2scaleexp5             0.05\n",
       "MarksInside50_n2scaleexp5                0.05\n",
       "MarksInside50scaleexp5                   0.05\n",
       "OnePercentersscaleexp5                   0.04\n",
       "Margin_n1exp5                            0.04\n",
       "Marginexp5                               0.04\n",
       "OnePercenters_n1_n2scaleexp5             0.04\n",
       "OnePercenters_n2scaleexp5                0.04\n",
       "MarksInside50_n1exp5                     0.04\n",
       "Score_n1exp5                             0.04\n",
       "OnePercenters_n1scaleexp5                0.04\n",
       "Score_n1_n2exp5                          0.04\n",
       "Margin_n1_n2exp5                         0.04\n",
       "WinLossexp5                              0.04\n",
       "Score_n2exp5                             0.04\n",
       "Margin_n2exp5                            0.04\n",
       "MarksInside50_n2exp5                     0.04\n",
       "MarksInside50_n1_n2exp5                  0.04\n",
       "MarksInside50exp5                        0.03\n",
       "Scoreexp5                                0.03\n",
       "OnePercentersexp5                        0.02\n",
       "OnePercenters_n2exp5                     0.02\n",
       "OnePercenters_n1_n2exp5                  0.02\n",
       "OnePercenters_n1exp5                     0.02\n",
       "Height                                   0.00\n",
       "Height_n1                                0.00\n",
       "Height_n2                                0.00\n",
       "Height_n1_n2                             0.00\n",
       "Length: 221, dtype: float64"
      ]
     },
     "execution_count": 72,
     "metadata": {},
     "output_type": "execute_result"
    }
   ],
   "source": [
    "df_F[df_F.Position=='Midfield'][column_list].corrwith(df_F[df_F.Position=='Midfield'].target).sort_values(ascending=False)"
   ]
  },
  {
   "cell_type": "markdown",
   "metadata": {},
   "source": [
    "## Midfield, Forward:"
   ]
  },
  {
   "cell_type": "code",
   "execution_count": 73,
   "metadata": {},
   "outputs": [
    {
     "data": {
      "text/plain": [
       "FantasyPerPercentPlayedscaleexp5         0.47\n",
       "fantasy_pointsexp5                       0.47\n",
       "fantasy_points_n1exp5                    0.46\n",
       "Disposalsexp5                            0.45\n",
       "fantasy_pointsscaleexp5                  0.45\n",
       "FantasyPerPercentPlayed_n2scaleexp5      0.45\n",
       "FantasyPerPercentPlayed_n1_n2scaleexp5   0.45\n",
       "fantasy_points_n2exp5                    0.45\n",
       "fantasy_points_n1_n2exp5                 0.45\n",
       "Disposals_n1exp5                         0.45\n",
       "Disposalsscaleexp5                       0.45\n",
       "Disposals_n1_n2exp5                      0.45\n",
       "Disposals_n2exp5                         0.45\n",
       "Disposals_n1scaleexp5                    0.45\n",
       "Disposals_n1_n2scaleexp5                 0.45\n",
       "Disposals_n2scaleexp5                    0.45\n",
       "fantasy_points_n1scaleexp5               0.45\n",
       "fantasy_points_n2scaleexp5               0.44\n",
       "fantasy_points_n1_n2scaleexp5            0.44\n",
       "FantasyPerPercentPlayed_n1scaleexp5      0.44\n",
       "FantasyPerPercentPlayedexp5              0.42\n",
       "ContendedPossessionsscaleexp5            0.42\n",
       "ContendedPossessions_n1scaleexp5         0.41\n",
       "FantasyPerPercentPlayed_n2exp5           0.41\n",
       "FantasyPerPercentPlayed_n1_n2exp5        0.41\n",
       "ContendedPossessionsexp5                 0.41\n",
       "ContendedPossessions_n2scaleexp5         0.41\n",
       "ContendedPossessions_n1_n2scaleexp5      0.41\n",
       "ContendedPossessions_n1exp5              0.41\n",
       "ContendedPossessions_n1_n2exp5           0.40\n",
       "                                         ... \n",
       "PointsPerPercentPlayed_n2scaleexp5       0.07\n",
       "PointsPerPercentPlayed_n1_n2scaleexp5    0.07\n",
       "Behindsscaleexp5                         0.07\n",
       "WinLossexp5                              0.07\n",
       "Margin_n1_n2exp5                         0.07\n",
       "Score_n2exp5                             0.07\n",
       "Margin_n2exp5                            0.07\n",
       "Goalsexp5                                0.07\n",
       "Behinds_n1scaleexp5                      0.07\n",
       "Score_n1_n2exp5                          0.07\n",
       "MarksInside50exp5                        0.07\n",
       "Bounces_n1scaleexp5                      0.06\n",
       "Bounces_n2scaleexp5                      0.06\n",
       "Bounces_n1_n2scaleexp5                   0.06\n",
       "MarksInside50_n1exp5                     0.06\n",
       "Behinds_n2exp5                           0.06\n",
       "Behinds_n1_n2exp5                        0.06\n",
       "Bouncesscaleexp5                         0.05\n",
       "Behindsexp5                              0.05\n",
       "Bounces_n1exp5                           0.05\n",
       "Score_n1exp5                             0.05\n",
       "Behinds_n1exp5                           0.05\n",
       "Bounces_n1_n2exp5                        0.05\n",
       "Bounces_n2exp5                           0.05\n",
       "Scoreexp5                                0.05\n",
       "Bouncesexp5                              0.05\n",
       "PointsPerPercentPlayed_n1exp5            0.04\n",
       "PointsPerPercentPlayedexp5               0.04\n",
       "PointsPerPercentPlayed_n1_n2exp5         0.04\n",
       "PointsPerPercentPlayed_n2exp5            0.04\n",
       "Length: 221, dtype: float64"
      ]
     },
     "execution_count": 73,
     "metadata": {},
     "output_type": "execute_result"
    }
   ],
   "source": [
    "df_F[df_F.Position=='Midfield, Forward'][column_list].corrwith(df_F[df_F.Position=='Midfield, Forward'].target).sort_values(ascending=False)"
   ]
  },
  {
   "cell_type": "markdown",
   "metadata": {},
   "source": [
    "## Ruck:"
   ]
  },
  {
   "cell_type": "code",
   "execution_count": 74,
   "metadata": {},
   "outputs": [
    {
     "data": {
      "text/plain": [
       "FantasyPerPercentPlayedscaleexp5          0.45\n",
       "fantasy_pointsexp5                        0.45\n",
       "fantasy_pointsscaleexp5                   0.44\n",
       "fantasy_points_n1exp5                     0.44\n",
       "fantasy_points_n1scaleexp5                0.44\n",
       "FantasyPerPercentPlayed_n1_n2scaleexp5    0.43\n",
       "FantasyPerPercentPlayed_n2scaleexp5       0.43\n",
       "FantasyPerPercentPlayed_n1scaleexp5       0.43\n",
       "fantasy_points_n2exp5                     0.43\n",
       "fantasy_points_n1_n2exp5                  0.43\n",
       "fantasy_points_n1_n2scaleexp5             0.42\n",
       "fantasy_points_n2scaleexp5                0.42\n",
       "FantasyPerPercentPlayedexp5               0.41\n",
       "FantasyPerPercentPlayed_n2exp5            0.39\n",
       "FantasyPerPercentPlayed_n1_n2exp5         0.39\n",
       "FantasyPerPercentPlayed_n1exp5            0.39\n",
       "Disposalsscaleexp5                        0.39\n",
       "Hitoutsscaleexp5                          0.38\n",
       "Disposalsexp5                             0.38\n",
       "Disposals_n1scaleexp5                     0.37\n",
       "Hitoutsexp5                               0.37\n",
       "Hitouts_n1scaleexp5                       0.37\n",
       "Hitouts_n1_n2scaleexp5                    0.36\n",
       "Hitouts_n2scaleexp5                       0.36\n",
       "Disposals_n1exp5                          0.36\n",
       "Hitouts_n1exp5                            0.35\n",
       "Disposals_n2scaleexp5                     0.35\n",
       "Disposals_n1_n2scaleexp5                  0.35\n",
       "Disposals_n2exp5                          0.34\n",
       "Disposals_n1_n2exp5                       0.34\n",
       "                                          ... \n",
       "Behinds_n1exp5                            0.02\n",
       "Behindsexp5                               0.01\n",
       "Height_n1_n2                             -0.01\n",
       "Height_n2                                -0.01\n",
       "PointsPerPercentPlayed_n1scaleexp5       -0.02\n",
       "PointsPerPercentPlayed_n1_n2scaleexp5    -0.03\n",
       "PointsPerPercentPlayed_n2scaleexp5       -0.03\n",
       "PointsPerPercentPlayedscaleexp5          -0.03\n",
       "PointsPerPercentPlayed_n1exp5            -0.04\n",
       "Goals_n1scaleexp5                        -0.04\n",
       "Goals_n2scaleexp5                        -0.04\n",
       "Goals_n1_n2scaleexp5                     -0.04\n",
       "PointsPerPercentPlayed_n2exp5            -0.04\n",
       "PointsPerPercentPlayed_n1_n2exp5         -0.04\n",
       "Goalsscaleexp5                           -0.04\n",
       "PointsPerPercentPlayedexp5               -0.04\n",
       "Height_n1                                -0.05\n",
       "MarksInside50scaleexp5                   -0.05\n",
       "Height                                   -0.05\n",
       "MarksInside50_n1scaleexp5                -0.05\n",
       "Goals_n1exp5                             -0.05\n",
       "Goals_n1_n2exp5                          -0.05\n",
       "Goals_n2exp5                             -0.05\n",
       "Goalsexp5                                -0.05\n",
       "MarksInside50exp5                        -0.06\n",
       "MarksInside50_n1exp5                     -0.06\n",
       "MarksInside50_n2scaleexp5                -0.06\n",
       "MarksInside50_n1_n2scaleexp5             -0.06\n",
       "MarksInside50_n1_n2exp5                  -0.07\n",
       "MarksInside50_n2exp5                     -0.07\n",
       "Length: 221, dtype: float64"
      ]
     },
     "execution_count": 74,
     "metadata": {},
     "output_type": "execute_result"
    }
   ],
   "source": [
    "df_F[df_F.Position=='Ruck'][column_list].corrwith(df_F[df_F.Position=='Ruck'].target).sort_values(ascending=False)"
   ]
  },
  {
   "cell_type": "markdown",
   "metadata": {},
   "source": [
    "## Forward, Ruck:"
   ]
  },
  {
   "cell_type": "code",
   "execution_count": 75,
   "metadata": {},
   "outputs": [
    {
     "data": {
      "text/plain": [
       "FantasyPerPercentPlayedscaleexp5          0.41\n",
       "fantasy_pointsexp5                        0.41\n",
       "fantasy_points_n1exp5                     0.40\n",
       "fantasy_points_n2exp5                     0.40\n",
       "fantasy_points_n1_n2exp5                  0.40\n",
       "FantasyPerPercentPlayed_n1_n2scaleexp5    0.40\n",
       "FantasyPerPercentPlayed_n2scaleexp5       0.40\n",
       "FantasyPerPercentPlayedexp5               0.40\n",
       "fantasy_pointsscaleexp5                   0.39\n",
       "fantasy_points_n1_n2scaleexp5             0.39\n",
       "fantasy_points_n2scaleexp5                0.39\n",
       "FantasyPerPercentPlayed_n1_n2exp5         0.39\n",
       "FantasyPerPercentPlayed_n2exp5            0.39\n",
       "FantasyPerPercentPlayed_n1scaleexp5       0.38\n",
       "fantasy_points_n1scaleexp5                0.38\n",
       "Disposalsexp5                             0.38\n",
       "Age_n2                                    0.37\n",
       "Age_n1_n2                                 0.37\n",
       "FantasyPerPercentPlayed_n1exp5            0.37\n",
       "Age_n1                                    0.37\n",
       "Disposals_n2exp5                          0.37\n",
       "Disposals_n1_n2exp5                       0.37\n",
       "Age                                       0.37\n",
       "Disposals_n1exp5                          0.36\n",
       "Kicks_n1exp5                              0.36\n",
       "Kicksexp5                                 0.35\n",
       "Disposalsscaleexp5                        0.35\n",
       "Disposals_n1_n2scaleexp5                  0.35\n",
       "Disposals_n2scaleexp5                     0.35\n",
       "Kicks_n2exp5                              0.34\n",
       "                                          ... \n",
       "FreesAgainstscaleexp5                     0.06\n",
       "ContestedMarks_n1_n2scaleexp5             0.06\n",
       "ContestedMarks_n2scaleexp5                0.06\n",
       "ContestedMarks_n1_n2exp5                  0.06\n",
       "ContestedMarks_n2exp5                     0.06\n",
       "Height_n1                                 0.06\n",
       "FreesAgainst_n1scaleexp5                  0.06\n",
       "Height                                    0.05\n",
       "FreesAgainstexp5                          0.05\n",
       "FreesAgainst_n1exp5                       0.05\n",
       "FreesAgainst_n1_n2scaleexp5               0.04\n",
       "FreesAgainst_n2scaleexp5                  0.04\n",
       "ContestedMarksexp5                        0.04\n",
       "ContestedMarks_n1exp5                     0.03\n",
       "ContestedMarksscaleexp5                   0.03\n",
       "ContestedMarks_n1scaleexp5                0.03\n",
       "FreesAgainst_n1_n2exp5                    0.03\n",
       "FreesAgainst_n2exp5                       0.03\n",
       "Weight_n1                                -0.07\n",
       "Weight                                   -0.08\n",
       "OnePercenters_n1scaleexp5                -0.08\n",
       "OnePercentersscaleexp5                   -0.08\n",
       "OnePercentersexp5                        -0.09\n",
       "OnePercenters_n1exp5                     -0.09\n",
       "Weight_n1_n2                             -0.10\n",
       "Weight_n2                                -0.10\n",
       "OnePercenters_n2scaleexp5                -0.10\n",
       "OnePercenters_n1_n2scaleexp5             -0.10\n",
       "OnePercenters_n1_n2exp5                  -0.11\n",
       "OnePercenters_n2exp5                     -0.11\n",
       "Length: 221, dtype: float64"
      ]
     },
     "execution_count": 75,
     "metadata": {},
     "output_type": "execute_result"
    }
   ],
   "source": [
    "df_F[df_F.Position=='Forward, Ruck'][column_list].corrwith(df_F[df_F.Position=='Forward, Ruck'].target).sort_values(ascending=False)"
   ]
  },
  {
   "cell_type": "markdown",
   "metadata": {},
   "source": [
    "## Defender, Midfield:"
   ]
  },
  {
   "cell_type": "code",
   "execution_count": 76,
   "metadata": {},
   "outputs": [
    {
     "data": {
      "text/plain": [
       "Disposals_n1scaleexp5                     0.47\n",
       "Disposals_n1exp5                          0.46\n",
       "Disposalsscaleexp5                        0.46\n",
       "fantasy_points_n1scaleexp5                0.45\n",
       "fantasy_points_n1exp5                     0.45\n",
       "Disposals_n1_n2scaleexp5                  0.45\n",
       "Disposals_n2scaleexp5                     0.45\n",
       "fantasy_pointsscaleexp5                   0.45\n",
       "Disposalsexp5                             0.45\n",
       "FantasyPerPercentPlayedscaleexp5          0.45\n",
       "fantasy_pointsexp5                        0.45\n",
       "Disposals_n1_n2exp5                       0.44\n",
       "Disposals_n2exp5                          0.44\n",
       "fantasy_points_n2scaleexp5                0.44\n",
       "fantasy_points_n1_n2scaleexp5             0.44\n",
       "fantasy_points_n2exp5                     0.44\n",
       "fantasy_points_n1_n2exp5                  0.44\n",
       "FantasyPerPercentPlayed_n2scaleexp5       0.42\n",
       "FantasyPerPercentPlayed_n1_n2scaleexp5    0.42\n",
       "FantasyPerPercentPlayed_n1scaleexp5       0.42\n",
       "Kicks_n1scaleexp5                         0.41\n",
       "Kicksscaleexp5                            0.41\n",
       "Weight                                    0.41\n",
       "Weight_n1                                 0.41\n",
       "Age_n1                                    0.41\n",
       "Kicksexp5                                 0.40\n",
       "Kicks_n1exp5                              0.40\n",
       "ContendedPossessions_n1_n2scaleexp5       0.40\n",
       "ContendedPossessions_n2scaleexp5          0.40\n",
       "ContendedPossessionsscaleexp5             0.40\n",
       "                                          ... \n",
       "Rebound50sscaleexp5                       0.13\n",
       "Goalsexp5                                 0.12\n",
       "Goals_n1exp5                              0.10\n",
       "Goals_n2exp5                              0.10\n",
       "Goals_n1_n2exp5                           0.10\n",
       "Rebound50s_n2exp5                         0.10\n",
       "Rebound50s_n1_n2exp5                      0.10\n",
       "PointsPerPercentPlayedexp5                0.09\n",
       "Rebound50s_n1exp5                         0.09\n",
       "Rebound50sexp5                            0.09\n",
       "PointsPerPercentPlayed_n2exp5             0.08\n",
       "PointsPerPercentPlayed_n1_n2exp5          0.08\n",
       "Score_n1_n2exp5                           0.08\n",
       "Margin_n1_n2exp5                          0.08\n",
       "WinLossexp5                               0.08\n",
       "Margin_n2exp5                             0.08\n",
       "Score_n2exp5                              0.08\n",
       "PointsPerPercentPlayed_n1exp5             0.08\n",
       "Scoreexp5                                 0.07\n",
       "Score_n1exp5                              0.05\n",
       "Bounces_n1_n2scaleexp5                    0.02\n",
       "Bounces_n2scaleexp5                       0.02\n",
       "Margin_n1exp5                             0.01\n",
       "Bounces_n2exp5                            0.01\n",
       "Bounces_n1_n2exp5                         0.01\n",
       "Marginexp5                                0.00\n",
       "Bounces_n1scaleexp5                      -0.00\n",
       "Bouncesscaleexp5                         -0.01\n",
       "Bounces_n1exp5                           -0.02\n",
       "Bouncesexp5                              -0.02\n",
       "Length: 221, dtype: float64"
      ]
     },
     "execution_count": 76,
     "metadata": {},
     "output_type": "execute_result"
    }
   ],
   "source": [
    "df_F[df_F.Position=='Defender, Midfield'][column_list].corrwith(df_F[df_F.Position=='Defender, Midfield'].target).sort_values(ascending=False)"
   ]
  },
  {
   "cell_type": "markdown",
   "metadata": {},
   "source": [
    "## Defender, Forward:"
   ]
  },
  {
   "cell_type": "code",
   "execution_count": 77,
   "metadata": {},
   "outputs": [
    {
     "data": {
      "text/plain": [
       "fantasy_pointsscaleexp5                   0.41\n",
       "Kicksexp5                                 0.41\n",
       "Kicksscaleexp5                            0.41\n",
       "fantasy_points_n1scaleexp5                0.41\n",
       "fantasy_pointsexp5                        0.41\n",
       "FantasyPerPercentPlayedscaleexp5          0.41\n",
       "Disposalsexp5                             0.40\n",
       "Disposalsscaleexp5                        0.40\n",
       "fantasy_points_n1exp5                     0.40\n",
       "Disposals_n1exp5                          0.40\n",
       "fantasy_points_n2scaleexp5                0.40\n",
       "fantasy_points_n1_n2scaleexp5             0.40\n",
       "Kicks_n1exp5                              0.40\n",
       "Disposals_n1scaleexp5                     0.40\n",
       "Kicks_n1scaleexp5                         0.40\n",
       "fantasy_points_n1_n2exp5                  0.39\n",
       "fantasy_points_n2exp5                     0.39\n",
       "FantasyPerPercentPlayed_n1scaleexp5       0.39\n",
       "Kicks_n2scaleexp5                         0.39\n",
       "Kicks_n1_n2scaleexp5                      0.39\n",
       "Kicks_n2exp5                              0.39\n",
       "Kicks_n1_n2exp5                           0.39\n",
       "UncontendedPossessionsscaleexp5           0.38\n",
       "FantasyPerPercentPlayed_n2scaleexp5       0.38\n",
       "FantasyPerPercentPlayed_n1_n2scaleexp5    0.38\n",
       "Disposals_n1_n2scaleexp5                  0.38\n",
       "Disposals_n2scaleexp5                     0.38\n",
       "Disposals_n2exp5                          0.38\n",
       "Disposals_n1_n2exp5                       0.38\n",
       "UncontendedPossessionsexp5                0.38\n",
       "                                          ... \n",
       "PointsPerPercentPlayed_n1_n2exp5         -0.06\n",
       "PointsPerPercentPlayed_n2exp5            -0.06\n",
       "FreesAgainstscaleexp5                    -0.06\n",
       "PointsPerPercentPlayed_n1scaleexp5       -0.06\n",
       "OnePercentersexp5                        -0.06\n",
       "OnePercenters_n1exp5                     -0.06\n",
       "Hitoutsscaleexp5                         -0.06\n",
       "PointsPerPercentPlayedexp5               -0.06\n",
       "Hitoutsexp5                              -0.06\n",
       "Hitouts_n2scaleexp5                      -0.07\n",
       "Hitouts_n1_n2scaleexp5                   -0.07\n",
       "Hitouts_n1scaleexp5                      -0.07\n",
       "Hitouts_n1_n2exp5                        -0.07\n",
       "Hitouts_n2exp5                           -0.07\n",
       "Hitouts_n1exp5                           -0.07\n",
       "PointsPerPercentPlayed_n1exp5            -0.07\n",
       "FreesAgainst_n1_n2exp5                   -0.07\n",
       "FreesAgainst_n2exp5                      -0.07\n",
       "OnePercenters_n1_n2exp5                  -0.07\n",
       "OnePercenters_n2exp5                     -0.07\n",
       "FreesAgainst_n1exp5                      -0.08\n",
       "FreesAgainstexp5                         -0.09\n",
       "Weight                                   -0.10\n",
       "Height_n1                                -0.11\n",
       "Height                                   -0.11\n",
       "Weight_n1                                -0.11\n",
       "Height_n2                                -0.11\n",
       "Height_n1_n2                             -0.11\n",
       "Weight_n1_n2                             -0.11\n",
       "Weight_n2                                -0.11\n",
       "Length: 221, dtype: float64"
      ]
     },
     "execution_count": 77,
     "metadata": {},
     "output_type": "execute_result"
    }
   ],
   "source": [
    "df_F[df_F.Position=='Defender, Forward'][column_list].corrwith(df_F[df_F.Position=='Defender, Forward'].target).sort_values(ascending=False)"
   ]
  },
  {
   "cell_type": "markdown",
   "metadata": {},
   "source": [
    "# Machine Learning:\n",
    "## Making dummy variables:"
   ]
  },
  {
   "cell_type": "code",
   "execution_count": 78,
   "metadata": {
    "scrolled": true
   },
   "outputs": [
    {
     "data": {
      "text/html": [
       "<div>\n",
       "<style scoped>\n",
       "    .dataframe tbody tr th:only-of-type {\n",
       "        vertical-align: middle;\n",
       "    }\n",
       "\n",
       "    .dataframe tbody tr th {\n",
       "        vertical-align: top;\n",
       "    }\n",
       "\n",
       "    .dataframe thead th {\n",
       "        text-align: right;\n",
       "    }\n",
       "</style>\n",
       "<table border=\"1\" class=\"dataframe\">\n",
       "  <thead>\n",
       "    <tr style=\"text-align: right;\">\n",
       "      <th></th>\n",
       "      <th>Team</th>\n",
       "      <th>Player</th>\n",
       "      <th>Position</th>\n",
       "      <th>Opposition</th>\n",
       "      <th>Venue</th>\n",
       "    </tr>\n",
       "  </thead>\n",
       "  <tbody>\n",
       "    <tr>\n",
       "      <th>1983</th>\n",
       "      <td>Collingwood</td>\n",
       "      <td>Clarke, Martin</td>\n",
       "      <td>Defender</td>\n",
       "      <td>Western Bulldogs</td>\n",
       "      <td>Docklands</td>\n",
       "    </tr>\n",
       "    <tr>\n",
       "      <th>1984</th>\n",
       "      <td>Collingwood</td>\n",
       "      <td>Cloke, Travis</td>\n",
       "      <td>Forward</td>\n",
       "      <td>Western Bulldogs</td>\n",
       "      <td>Docklands</td>\n",
       "    </tr>\n",
       "    <tr>\n",
       "      <th>1985</th>\n",
       "      <td>Collingwood</td>\n",
       "      <td>Dawes, Chris</td>\n",
       "      <td>Forward</td>\n",
       "      <td>Western Bulldogs</td>\n",
       "      <td>Docklands</td>\n",
       "    </tr>\n",
       "    <tr>\n",
       "      <th>1986</th>\n",
       "      <td>Collingwood</td>\n",
       "      <td>Fasolo, Alex</td>\n",
       "      <td>Forward</td>\n",
       "      <td>Western Bulldogs</td>\n",
       "      <td>Docklands</td>\n",
       "    </tr>\n",
       "    <tr>\n",
       "      <th>1987</th>\n",
       "      <td>Collingwood</td>\n",
       "      <td>Goldsack, Tyson</td>\n",
       "      <td>Defender</td>\n",
       "      <td>Western Bulldogs</td>\n",
       "      <td>Docklands</td>\n",
       "    </tr>\n",
       "  </tbody>\n",
       "</table>\n",
       "</div>"
      ],
      "text/plain": [
       "             Team           Player  Position        Opposition      Venue\n",
       "1983  Collingwood   Clarke, Martin  Defender  Western Bulldogs  Docklands\n",
       "1984  Collingwood    Cloke, Travis   Forward  Western Bulldogs  Docklands\n",
       "1985  Collingwood     Dawes, Chris   Forward  Western Bulldogs  Docklands\n",
       "1986  Collingwood     Fasolo, Alex   Forward  Western Bulldogs  Docklands\n",
       "1987  Collingwood  Goldsack, Tyson  Defender  Western Bulldogs  Docklands"
      ]
     },
     "execution_count": 78,
     "metadata": {},
     "output_type": "execute_result"
    }
   ],
   "source": [
    "df_F.select_dtypes(include=['object']).head()"
   ]
  },
  {
   "cell_type": "code",
   "execution_count": 79,
   "metadata": {},
   "outputs": [],
   "source": [
    "categorical_list2 = df_F.select_dtypes(include=['object']).drop('Player',axis=1).columns"
   ]
  },
  {
   "cell_type": "code",
   "execution_count": 80,
   "metadata": {},
   "outputs": [],
   "source": [
    "df_F = pd.get_dummies(df_F,columns=categorical_list2,drop_first=True)"
   ]
  },
  {
   "cell_type": "markdown",
   "metadata": {},
   "source": [
    "## Spliting Data and Creating Model:"
   ]
  },
  {
   "cell_type": "code",
   "execution_count": 81,
   "metadata": {},
   "outputs": [],
   "source": [
    "X2 = df_F.drop(['target','Date','Player'],axis=1)\n",
    "y2 = df_F['target']"
   ]
  },
  {
   "cell_type": "code",
   "execution_count": 82,
   "metadata": {},
   "outputs": [],
   "source": [
    "from sklearn.linear_model import Ridge\n",
    "\n",
    "from sklearn.model_selection import KFold\n",
    "from sklearn.metrics import mean_squared_error,mean_absolute_error,r2_score"
   ]
  },
  {
   "cell_type": "code",
   "execution_count": 83,
   "metadata": {},
   "outputs": [],
   "source": [
    "clf_A = Ridge(alpha=1e3,random_state=0)"
   ]
  },
  {
   "cell_type": "code",
   "execution_count": 84,
   "metadata": {},
   "outputs": [],
   "source": [
    "def metrics_function(target,pred):\n",
    "    return mean_squared_error(target,pred),mean_absolute_error(target,pred),r2_score(target,pred)\n",
    "\n",
    "def FOLD_TEST(clf,X_all,y_all,folds_num,row_factor):\n",
    "    start=time()\n",
    "    \n",
    "    KFLD=KFold(n_splits=folds_num,random_state=0,shuffle=True)\n",
    "    print ('{}:'.format(clf.__class__.__name__),'\\n')\n",
    "    \n",
    "    samp_size=X_all.shape[0]//row_factor\n",
    "    \n",
    "    MSE_list_train=[]\n",
    "    MSE_list_test=[]\n",
    "    MAE_list_train=[]\n",
    "    MAE_list_test=[]\n",
    "    R2_list_train=[]\n",
    "    R2_list_test=[]\n",
    "    \n",
    "    for fold,(train_index,target_index) in enumerate(KFLD.split(X_all[:samp_size],\n",
    "                                                                y_all[:samp_size])):\n",
    "        X_train=X_all.iloc[train_index].values\n",
    "        y_train=y_all.iloc[train_index].values\n",
    "\n",
    "        X_test=X_all.iloc[target_index].values\n",
    "        y_test=y_all.iloc[target_index].values\n",
    "        \n",
    "        clf.fit(X_train,y_train)\n",
    "        y_pred1=clf.predict(X_train)\n",
    "        y_pred2=clf.predict(X_test)\n",
    "\n",
    "        train_MSE,train_MAE,train_R2=metrics_function(y_train,y_pred1)\n",
    "        test_MSE,test_MAE,test_R2=metrics_function(y_test,y_pred2)\n",
    "        \n",
    "        MSE_list_train.append(train_MSE)\n",
    "        MSE_list_test.append(test_MSE)\n",
    "        MAE_list_train.append(train_MAE)\n",
    "        MAE_list_test.append(test_MAE)\n",
    "        R2_list_train.append(train_R2)\n",
    "        R2_list_test.append(test_R2)\n",
    "        \n",
    "    print(\"Train MSE: {}, Test MSE: {}\".format(np.mean(MSE_list_train),\n",
    "                                               np.mean(MSE_list_test)),'\\n'*2) \n",
    "    print(\"Train MAE: {}, Test MAE: {}\".format(np.mean(MAE_list_train),\n",
    "                                               np.mean(MAE_list_test)),'\\n'*2)\n",
    "    print(\"Train R2: {}, Test R2: {}\".format(np.mean(R2_list_train),\n",
    "                                             np.mean(R2_list_test)),'\\n'*2)   \n",
    "        \n",
    "    print(\"Sample Size: {}, Folds Num: {}, Time: {}\".format(samp_size,folds_num,\n",
    "                                                            time()-start),'\\n'*2)"
   ]
  },
  {
   "cell_type": "code",
   "execution_count": 85,
   "metadata": {},
   "outputs": [
    {
     "name": "stdout",
     "output_type": "stream",
     "text": [
      "Ridge: \n",
      "\n",
      "Train MSE: 507.0207612600552, Test MSE: 508.5873221842143 \n",
      "\n",
      "\n",
      "Train MAE: 17.7161027302842, Test MAE: 17.743126703242496 \n",
      "\n",
      "\n",
      "Train R2: 0.3140354126895707, Test R2: 0.311859329772468 \n",
      "\n",
      "\n",
      "Sample Size: 55135, Folds Num: 7, Time: 2.7573044300079346 \n",
      "\n",
      "\n"
     ]
    }
   ],
   "source": [
    "FOLD_TEST(clf_A, X2, y2, 7, 1)"
   ]
  }
 ],
 "metadata": {
  "kernelspec": {
   "display_name": "Python 3",
   "language": "python",
   "name": "python3"
  },
  "language_info": {
   "codemirror_mode": {
    "name": "ipython",
    "version": 3
   },
   "file_extension": ".py",
   "mimetype": "text/x-python",
   "name": "python",
   "nbconvert_exporter": "python",
   "pygments_lexer": "ipython3",
   "version": "3.7.3"
  }
 },
 "nbformat": 4,
 "nbformat_minor": 2
}
